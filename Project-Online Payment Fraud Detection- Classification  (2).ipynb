{
 "cells": [
  {
   "cell_type": "markdown",
   "id": "7109559c",
   "metadata": {},
   "source": [
    "# Online Payment Fraud Detection System"
   ]
  },
  {
   "cell_type": "markdown",
   "id": "34835315",
   "metadata": {},
   "source": [
    "To identify online payment fraud with machine learning, we need to train a machine learning model for classifying fraudulent and non-fraudulent payments. For this, we need a dataset containing information about online payment fraud, so that we can understand what type of transactions lead to fraud. For this task, I collected a dataset from Kaggle, which contains historical information about fraudulent transactions which can be used to detect fraud in online payments."
   ]
  },
  {
   "cell_type": "code",
   "execution_count": null,
   "id": "7b749981",
   "metadata": {},
   "outputs": [],
   "source": []
  },
  {
   "cell_type": "markdown",
   "id": "755fcef1",
   "metadata": {},
   "source": [
    "# import the liabraries"
   ]
  },
  {
   "cell_type": "code",
   "execution_count": 292,
   "id": "0463d105",
   "metadata": {},
   "outputs": [],
   "source": [
    "import numpy as np\n",
    "import pandas as pd\n",
    "import seaborn as sns\n",
    "import matplotlib.pyplot as plt"
   ]
  },
  {
   "cell_type": "markdown",
   "id": "a06d5772",
   "metadata": {},
   "source": [
    "# Analyzing data"
   ]
  },
  {
   "cell_type": "markdown",
   "id": "28f93c86",
   "metadata": {},
   "source": [
    "Dataset are stored in df variable."
   ]
  },
  {
   "cell_type": "code",
   "execution_count": 293,
   "id": "ac05c5e0",
   "metadata": {
    "scrolled": true
   },
   "outputs": [
    {
     "data": {
      "text/html": [
       "<div>\n",
       "<style scoped>\n",
       "    .dataframe tbody tr th:only-of-type {\n",
       "        vertical-align: middle;\n",
       "    }\n",
       "\n",
       "    .dataframe tbody tr th {\n",
       "        vertical-align: top;\n",
       "    }\n",
       "\n",
       "    .dataframe thead th {\n",
       "        text-align: right;\n",
       "    }\n",
       "</style>\n",
       "<table border=\"1\" class=\"dataframe\">\n",
       "  <thead>\n",
       "    <tr style=\"text-align: right;\">\n",
       "      <th></th>\n",
       "      <th>step</th>\n",
       "      <th>type</th>\n",
       "      <th>amount</th>\n",
       "      <th>nameOrig</th>\n",
       "      <th>oldbalanceOrg</th>\n",
       "      <th>newbalanceOrig</th>\n",
       "      <th>nameDest</th>\n",
       "      <th>oldbalanceDest</th>\n",
       "      <th>newbalanceDest</th>\n",
       "      <th>isFraud</th>\n",
       "    </tr>\n",
       "  </thead>\n",
       "  <tbody>\n",
       "    <tr>\n",
       "      <th>0</th>\n",
       "      <td>1</td>\n",
       "      <td>PAYMENT</td>\n",
       "      <td>9839.64</td>\n",
       "      <td>C1231006815</td>\n",
       "      <td>170136.0</td>\n",
       "      <td>160296.36</td>\n",
       "      <td>M1979787155</td>\n",
       "      <td>0.0</td>\n",
       "      <td>0.0</td>\n",
       "      <td>0</td>\n",
       "    </tr>\n",
       "    <tr>\n",
       "      <th>1</th>\n",
       "      <td>1</td>\n",
       "      <td>PAYMENT</td>\n",
       "      <td>1864.28</td>\n",
       "      <td>C1666544295</td>\n",
       "      <td>21249.0</td>\n",
       "      <td>19384.72</td>\n",
       "      <td>M2044282225</td>\n",
       "      <td>0.0</td>\n",
       "      <td>0.0</td>\n",
       "      <td>0</td>\n",
       "    </tr>\n",
       "    <tr>\n",
       "      <th>2</th>\n",
       "      <td>1</td>\n",
       "      <td>TRANSFER</td>\n",
       "      <td>181.00</td>\n",
       "      <td>C1305486145</td>\n",
       "      <td>181.0</td>\n",
       "      <td>0.00</td>\n",
       "      <td>C553264065</td>\n",
       "      <td>0.0</td>\n",
       "      <td>0.0</td>\n",
       "      <td>1</td>\n",
       "    </tr>\n",
       "    <tr>\n",
       "      <th>3</th>\n",
       "      <td>1</td>\n",
       "      <td>CASH_OUT</td>\n",
       "      <td>181.00</td>\n",
       "      <td>C840083671</td>\n",
       "      <td>181.0</td>\n",
       "      <td>0.00</td>\n",
       "      <td>C38997010</td>\n",
       "      <td>21182.0</td>\n",
       "      <td>0.0</td>\n",
       "      <td>1</td>\n",
       "    </tr>\n",
       "    <tr>\n",
       "      <th>4</th>\n",
       "      <td>1</td>\n",
       "      <td>PAYMENT</td>\n",
       "      <td>11668.14</td>\n",
       "      <td>C2048537720</td>\n",
       "      <td>41554.0</td>\n",
       "      <td>29885.86</td>\n",
       "      <td>M1230701703</td>\n",
       "      <td>0.0</td>\n",
       "      <td>0.0</td>\n",
       "      <td>0</td>\n",
       "    </tr>\n",
       "  </tbody>\n",
       "</table>\n",
       "</div>"
      ],
      "text/plain": [
       "   step      type    amount     nameOrig  oldbalanceOrg  newbalanceOrig  \\\n",
       "0     1   PAYMENT   9839.64  C1231006815       170136.0       160296.36   \n",
       "1     1   PAYMENT   1864.28  C1666544295        21249.0        19384.72   \n",
       "2     1  TRANSFER    181.00  C1305486145          181.0            0.00   \n",
       "3     1  CASH_OUT    181.00   C840083671          181.0            0.00   \n",
       "4     1   PAYMENT  11668.14  C2048537720        41554.0        29885.86   \n",
       "\n",
       "      nameDest  oldbalanceDest  newbalanceDest  isFraud  \n",
       "0  M1979787155             0.0             0.0        0  \n",
       "1  M2044282225             0.0             0.0        0  \n",
       "2   C553264065             0.0             0.0        1  \n",
       "3    C38997010         21182.0             0.0        1  \n",
       "4  M1230701703             0.0             0.0        0  "
      ]
     },
     "execution_count": 293,
     "metadata": {},
     "output_type": "execute_result"
    }
   ],
   "source": [
    "df=pd.read_csv(\"FRAUD_1.csv\")\n",
    "df.head()"
   ]
  },
  {
   "cell_type": "markdown",
   "id": "b5bb2a83",
   "metadata": {},
   "source": [
    "# Description of the dataset"
   ]
  },
  {
   "cell_type": "markdown",
   "id": "208715de",
   "metadata": {},
   "source": [
    "1) step: represents a unit of time where 1 step equals 1 hour\n",
    "2) type: type of online transaction\n",
    "3) amount: the amount of the transaction\n",
    "4) nameOrig: customer starting the transaction\n",
    "5) oldbalanceOrg: balance before the transaction\n",
    "6) newbalanceOrig: balance after the transaction\n",
    "7) nameDest: recipient of the transaction\n",
    "8) oldbalanceDest: initial balance of recipient before the transaction\n",
    "9) newbalanceDest: the new balance of recipient after the transaction\n",
    "10) isFraud: fraud transaction"
   ]
  },
  {
   "cell_type": "code",
   "execution_count": 294,
   "id": "7321dd3f",
   "metadata": {},
   "outputs": [
    {
     "data": {
      "text/plain": [
       "Index(['step', 'type', 'amount', 'nameOrig', 'oldbalanceOrg', 'newbalanceOrig',\n",
       "       'nameDest', 'oldbalanceDest', 'newbalanceDest', 'isFraud'],\n",
       "      dtype='object')"
      ]
     },
     "execution_count": 294,
     "metadata": {},
     "output_type": "execute_result"
    }
   ],
   "source": [
    "df.columns\n",
    "#we get the column name"
   ]
  },
  {
   "cell_type": "code",
   "execution_count": 295,
   "id": "34efa989",
   "metadata": {},
   "outputs": [
    {
     "name": "stdout",
     "output_type": "stream",
     "text": [
      "<class 'pandas.core.frame.DataFrame'>\n",
      "RangeIndex: 1209 entries, 0 to 1208\n",
      "Data columns (total 10 columns):\n",
      " #   Column          Non-Null Count  Dtype  \n",
      "---  ------          --------------  -----  \n",
      " 0   step            1209 non-null   int64  \n",
      " 1   type            1209 non-null   object \n",
      " 2   amount          1209 non-null   float64\n",
      " 3   nameOrig        1209 non-null   object \n",
      " 4   oldbalanceOrg   1209 non-null   float64\n",
      " 5   newbalanceOrig  1209 non-null   float64\n",
      " 6   nameDest        1209 non-null   object \n",
      " 7   oldbalanceDest  1209 non-null   float64\n",
      " 8   newbalanceDest  1209 non-null   float64\n",
      " 9   isFraud         1209 non-null   int64  \n",
      "dtypes: float64(5), int64(2), object(3)\n",
      "memory usage: 94.6+ KB\n"
     ]
    }
   ],
   "source": [
    "df.info()"
   ]
  },
  {
   "cell_type": "code",
   "execution_count": 296,
   "id": "b8503ea7",
   "metadata": {},
   "outputs": [
    {
     "data": {
      "text/html": [
       "<div>\n",
       "<style scoped>\n",
       "    .dataframe tbody tr th:only-of-type {\n",
       "        vertical-align: middle;\n",
       "    }\n",
       "\n",
       "    .dataframe tbody tr th {\n",
       "        vertical-align: top;\n",
       "    }\n",
       "\n",
       "    .dataframe thead th {\n",
       "        text-align: right;\n",
       "    }\n",
       "</style>\n",
       "<table border=\"1\" class=\"dataframe\">\n",
       "  <thead>\n",
       "    <tr style=\"text-align: right;\">\n",
       "      <th></th>\n",
       "      <th>step</th>\n",
       "      <th>amount</th>\n",
       "      <th>oldbalanceOrg</th>\n",
       "      <th>newbalanceOrig</th>\n",
       "      <th>oldbalanceDest</th>\n",
       "      <th>newbalanceDest</th>\n",
       "      <th>isFraud</th>\n",
       "    </tr>\n",
       "  </thead>\n",
       "  <tbody>\n",
       "    <tr>\n",
       "      <th>count</th>\n",
       "      <td>1209.0</td>\n",
       "      <td>1.209000e+03</td>\n",
       "      <td>1.209000e+03</td>\n",
       "      <td>1.209000e+03</td>\n",
       "      <td>1.209000e+03</td>\n",
       "      <td>1.209000e+03</td>\n",
       "      <td>1209.000000</td>\n",
       "    </tr>\n",
       "    <tr>\n",
       "      <th>mean</th>\n",
       "      <td>1.0</td>\n",
       "      <td>1.181077e+05</td>\n",
       "      <td>7.367593e+05</td>\n",
       "      <td>7.523586e+05</td>\n",
       "      <td>6.348307e+05</td>\n",
       "      <td>1.135451e+06</td>\n",
       "      <td>0.012407</td>\n",
       "    </tr>\n",
       "    <tr>\n",
       "      <th>std</th>\n",
       "      <td>0.0</td>\n",
       "      <td>2.705046e+05</td>\n",
       "      <td>1.915334e+06</td>\n",
       "      <td>1.961387e+06</td>\n",
       "      <td>2.016544e+06</td>\n",
       "      <td>3.278765e+06</td>\n",
       "      <td>0.110739</td>\n",
       "    </tr>\n",
       "    <tr>\n",
       "      <th>min</th>\n",
       "      <td>1.0</td>\n",
       "      <td>8.730000e+00</td>\n",
       "      <td>0.000000e+00</td>\n",
       "      <td>0.000000e+00</td>\n",
       "      <td>0.000000e+00</td>\n",
       "      <td>0.000000e+00</td>\n",
       "      <td>0.000000</td>\n",
       "    </tr>\n",
       "    <tr>\n",
       "      <th>25%</th>\n",
       "      <td>1.0</td>\n",
       "      <td>4.145040e+03</td>\n",
       "      <td>0.000000e+00</td>\n",
       "      <td>0.000000e+00</td>\n",
       "      <td>0.000000e+00</td>\n",
       "      <td>0.000000e+00</td>\n",
       "      <td>0.000000</td>\n",
       "    </tr>\n",
       "    <tr>\n",
       "      <th>50%</th>\n",
       "      <td>1.0</td>\n",
       "      <td>1.177054e+04</td>\n",
       "      <td>1.538300e+04</td>\n",
       "      <td>6.267770e+03</td>\n",
       "      <td>1.371100e+04</td>\n",
       "      <td>0.000000e+00</td>\n",
       "      <td>0.000000</td>\n",
       "    </tr>\n",
       "    <tr>\n",
       "      <th>75%</th>\n",
       "      <td>1.0</td>\n",
       "      <td>1.344261e+05</td>\n",
       "      <td>9.506600e+04</td>\n",
       "      <td>8.486436e+04</td>\n",
       "      <td>3.992147e+05</td>\n",
       "      <td>4.242505e+05</td>\n",
       "      <td>0.000000</td>\n",
       "    </tr>\n",
       "    <tr>\n",
       "      <th>max</th>\n",
       "      <td>1.0</td>\n",
       "      <td>3.776389e+06</td>\n",
       "      <td>9.716462e+06</td>\n",
       "      <td>9.987287e+06</td>\n",
       "      <td>1.910000e+07</td>\n",
       "      <td>1.920000e+07</td>\n",
       "      <td>1.000000</td>\n",
       "    </tr>\n",
       "  </tbody>\n",
       "</table>\n",
       "</div>"
      ],
      "text/plain": [
       "         step        amount  oldbalanceOrg  newbalanceOrig  oldbalanceDest  \\\n",
       "count  1209.0  1.209000e+03   1.209000e+03    1.209000e+03    1.209000e+03   \n",
       "mean      1.0  1.181077e+05   7.367593e+05    7.523586e+05    6.348307e+05   \n",
       "std       0.0  2.705046e+05   1.915334e+06    1.961387e+06    2.016544e+06   \n",
       "min       1.0  8.730000e+00   0.000000e+00    0.000000e+00    0.000000e+00   \n",
       "25%       1.0  4.145040e+03   0.000000e+00    0.000000e+00    0.000000e+00   \n",
       "50%       1.0  1.177054e+04   1.538300e+04    6.267770e+03    1.371100e+04   \n",
       "75%       1.0  1.344261e+05   9.506600e+04    8.486436e+04    3.992147e+05   \n",
       "max       1.0  3.776389e+06   9.716462e+06    9.987287e+06    1.910000e+07   \n",
       "\n",
       "       newbalanceDest      isFraud  \n",
       "count    1.209000e+03  1209.000000  \n",
       "mean     1.135451e+06     0.012407  \n",
       "std      3.278765e+06     0.110739  \n",
       "min      0.000000e+00     0.000000  \n",
       "25%      0.000000e+00     0.000000  \n",
       "50%      0.000000e+00     0.000000  \n",
       "75%      4.242505e+05     0.000000  \n",
       "max      1.920000e+07     1.000000  "
      ]
     },
     "execution_count": 296,
     "metadata": {},
     "output_type": "execute_result"
    }
   ],
   "source": [
    "df.describe()"
   ]
  },
  {
   "cell_type": "code",
   "execution_count": 297,
   "id": "f0f52051",
   "metadata": {},
   "outputs": [
    {
     "data": {
      "text/plain": [
       "step              0\n",
       "type              0\n",
       "amount            0\n",
       "nameOrig          0\n",
       "oldbalanceOrg     0\n",
       "newbalanceOrig    0\n",
       "nameDest          0\n",
       "oldbalanceDest    0\n",
       "newbalanceDest    0\n",
       "isFraud           0\n",
       "dtype: int64"
      ]
     },
     "execution_count": 297,
     "metadata": {},
     "output_type": "execute_result"
    }
   ],
   "source": [
    "df.isnull().sum()\n",
    "#check the nan value in columns"
   ]
  },
  {
   "cell_type": "code",
   "execution_count": 298,
   "id": "4034fe73",
   "metadata": {},
   "outputs": [
    {
     "data": {
      "text/plain": [
       "(1209, 10)"
      ]
     },
     "execution_count": 298,
     "metadata": {},
     "output_type": "execute_result"
    }
   ],
   "source": [
    "df.shape\n",
    "#get the shape of the dataset"
   ]
  },
  {
   "cell_type": "code",
   "execution_count": 299,
   "id": "4aea5f1b",
   "metadata": {},
   "outputs": [
    {
     "data": {
      "text/plain": [
       "array([1], dtype=int64)"
      ]
     },
     "execution_count": 299,
     "metadata": {},
     "output_type": "execute_result"
    }
   ],
   "source": [
    "df['step'].unique()\n",
    "#get 1 value store in step"
   ]
  },
  {
   "cell_type": "code",
   "execution_count": 300,
   "id": "f0910575",
   "metadata": {},
   "outputs": [
    {
     "data": {
      "text/plain": [
       "array(['PAYMENT', 'TRANSFER', 'CASH_OUT', 'DEBIT', 'CASH_IN'],\n",
       "      dtype=object)"
      ]
     },
     "execution_count": 300,
     "metadata": {},
     "output_type": "execute_result"
    }
   ],
   "source": [
    "df['type'].unique()\n",
    "#get 5 object store in type column"
   ]
  },
  {
   "cell_type": "code",
   "execution_count": 301,
   "id": "57240b3d",
   "metadata": {},
   "outputs": [
    {
     "data": {
      "text/plain": [
       "type\n",
       "PAYMENT     561\n",
       "CASH_OUT    250\n",
       "CASH_IN     185\n",
       "TRANSFER    142\n",
       "DEBIT        71\n",
       "Name: count, dtype: int64"
      ]
     },
     "execution_count": 301,
     "metadata": {},
     "output_type": "execute_result"
    }
   ],
   "source": [
    "df['type'].value_counts()\n",
    "#list of different types"
   ]
  },
  {
   "cell_type": "markdown",
   "id": "3f01c1a3",
   "metadata": {},
   "source": [
    "# Graphical Representation"
   ]
  },
  {
   "cell_type": "markdown",
   "id": "d24a99a9",
   "metadata": {},
   "source": [
    "We can used the count plot to represent the count of the obervation present in the categorical variables."
   ]
  },
  {
   "cell_type": "code",
   "execution_count": 302,
   "id": "94fcee4d",
   "metadata": {},
   "outputs": [
    {
     "data": {
      "text/plain": [
       "<Axes: xlabel='type', ylabel='count'>"
      ]
     },
     "execution_count": 302,
     "metadata": {},
     "output_type": "execute_result"
    },
    {
     "data": {
      "image/png": "[encoded data removed]",
      "text/plain": [
       "<Figure size 640x480 with 1 Axes>"
      ]
     },
     "metadata": {},
     "output_type": "display_data"
    }
   ],
   "source": [
    "#plot the countplot\n",
    "sns.countplot(x='type', data=df)\n"
   ]
  },
  {
   "cell_type": "markdown",
   "id": "f868e29d",
   "metadata": {},
   "source": [
    "Plot the correlation heatmap\n",
    "\n",
    "    Correlation heatmap is a graphical tool that display the correlation between multiple variables as a color code"
   ]
  },
  {
   "cell_type": "code",
   "execution_count": 303,
   "id": "3be10d9d",
   "metadata": {},
   "outputs": [
    {
     "data": {
      "text/plain": [
       "<Axes: >"
      ]
     },
     "execution_count": 303,
     "metadata": {},
     "output_type": "execute_result"
    },
    {
     "data": {
      "image/png": "[encoded data removed]",
      "text/plain": [
       "<Figure size 1200x600 with 2 Axes>"
      ]
     },
     "metadata": {},
     "output_type": "display_data"
    }
   ],
   "source": [
    "numeric_df = df.select_dtypes(include=['number'])\n",
    "plt.figure(figsize=(12, 6))\n",
    "sns.heatmap(numeric_df.corr(), cmap='BrBG', fmt='.2f', linewidths=2, annot=True)"
   ]
  },
  {
   "cell_type": "markdown",
   "id": "2412fff9",
   "metadata": {},
   "source": [
    "#draw a pie chart\n",
    "\n",
    "#for analyzing how many % data store in each type"
   ]
  },
  {
   "cell_type": "code",
   "execution_count": 304,
   "id": "ede8bc98",
   "metadata": {},
   "outputs": [
    {
     "data": {
      "image/png": "[encoded data removed]",
      "text/plain": [
       "<Figure size 640x480 with 1 Axes>"
      ]
     },
     "metadata": {},
     "output_type": "display_data"
    }
   ],
   "source": [
    "quan=np.array([561,250,185,142,71])\n",
    "mylable=['PAYMENT', 'TRANSFER', 'CASH_OUT', 'DEBIT', 'CASH_IN']\n",
    "plt.pie(quan,labels=mylable,startangle=90,autopct='%1.1f%%')\n",
    "plt.title(\"Distribution of transaction type\")\n",
    "plt.show()"
   ]
  },
  {
   "cell_type": "code",
   "execution_count": 305,
   "id": "e5b9ab18",
   "metadata": {},
   "outputs": [
    {
     "data": {
      "text/html": [
       "<div>\n",
       "<style scoped>\n",
       "    .dataframe tbody tr th:only-of-type {\n",
       "        vertical-align: middle;\n",
       "    }\n",
       "\n",
       "    .dataframe tbody tr th {\n",
       "        vertical-align: top;\n",
       "    }\n",
       "\n",
       "    .dataframe thead th {\n",
       "        text-align: right;\n",
       "    }\n",
       "</style>\n",
       "<table border=\"1\" class=\"dataframe\">\n",
       "  <thead>\n",
       "    <tr style=\"text-align: right;\">\n",
       "      <th></th>\n",
       "      <th>step</th>\n",
       "      <th>type</th>\n",
       "      <th>amount</th>\n",
       "      <th>nameOrig</th>\n",
       "      <th>oldbalanceOrg</th>\n",
       "      <th>newbalanceOrig</th>\n",
       "      <th>nameDest</th>\n",
       "      <th>oldbalanceDest</th>\n",
       "      <th>newbalanceDest</th>\n",
       "      <th>isFraud</th>\n",
       "    </tr>\n",
       "  </thead>\n",
       "  <tbody>\n",
       "    <tr>\n",
       "      <th>0</th>\n",
       "      <td>1</td>\n",
       "      <td>PAYMENT</td>\n",
       "      <td>9839.64</td>\n",
       "      <td>C1231006815</td>\n",
       "      <td>170136.0</td>\n",
       "      <td>160296.36</td>\n",
       "      <td>M1979787155</td>\n",
       "      <td>0.0</td>\n",
       "      <td>0.0</td>\n",
       "      <td>0</td>\n",
       "    </tr>\n",
       "    <tr>\n",
       "      <th>1</th>\n",
       "      <td>1</td>\n",
       "      <td>PAYMENT</td>\n",
       "      <td>1864.28</td>\n",
       "      <td>C1666544295</td>\n",
       "      <td>21249.0</td>\n",
       "      <td>19384.72</td>\n",
       "      <td>M2044282225</td>\n",
       "      <td>0.0</td>\n",
       "      <td>0.0</td>\n",
       "      <td>0</td>\n",
       "    </tr>\n",
       "    <tr>\n",
       "      <th>2</th>\n",
       "      <td>1</td>\n",
       "      <td>TRANSFER</td>\n",
       "      <td>181.00</td>\n",
       "      <td>C1305486145</td>\n",
       "      <td>181.0</td>\n",
       "      <td>0.00</td>\n",
       "      <td>C553264065</td>\n",
       "      <td>0.0</td>\n",
       "      <td>0.0</td>\n",
       "      <td>1</td>\n",
       "    </tr>\n",
       "    <tr>\n",
       "      <th>3</th>\n",
       "      <td>1</td>\n",
       "      <td>CASH_OUT</td>\n",
       "      <td>181.00</td>\n",
       "      <td>C840083671</td>\n",
       "      <td>181.0</td>\n",
       "      <td>0.00</td>\n",
       "      <td>C38997010</td>\n",
       "      <td>21182.0</td>\n",
       "      <td>0.0</td>\n",
       "      <td>1</td>\n",
       "    </tr>\n",
       "    <tr>\n",
       "      <th>4</th>\n",
       "      <td>1</td>\n",
       "      <td>PAYMENT</td>\n",
       "      <td>11668.14</td>\n",
       "      <td>C2048537720</td>\n",
       "      <td>41554.0</td>\n",
       "      <td>29885.86</td>\n",
       "      <td>M1230701703</td>\n",
       "      <td>0.0</td>\n",
       "      <td>0.0</td>\n",
       "      <td>0</td>\n",
       "    </tr>\n",
       "  </tbody>\n",
       "</table>\n",
       "</div>"
      ],
      "text/plain": [
       "   step      type    amount     nameOrig  oldbalanceOrg  newbalanceOrig  \\\n",
       "0     1   PAYMENT   9839.64  C1231006815       170136.0       160296.36   \n",
       "1     1   PAYMENT   1864.28  C1666544295        21249.0        19384.72   \n",
       "2     1  TRANSFER    181.00  C1305486145          181.0            0.00   \n",
       "3     1  CASH_OUT    181.00   C840083671          181.0            0.00   \n",
       "4     1   PAYMENT  11668.14  C2048537720        41554.0        29885.86   \n",
       "\n",
       "      nameDest  oldbalanceDest  newbalanceDest  isFraud  \n",
       "0  M1979787155             0.0             0.0        0  \n",
       "1  M2044282225             0.0             0.0        0  \n",
       "2   C553264065             0.0             0.0        1  \n",
       "3    C38997010         21182.0             0.0        1  \n",
       "4  M1230701703             0.0             0.0        0  "
      ]
     },
     "execution_count": 305,
     "metadata": {},
     "output_type": "execute_result"
    }
   ],
   "source": [
    "#print our priginal dataset\n",
    "df.head()"
   ]
  },
  {
   "cell_type": "markdown",
   "id": "a9a5e741",
   "metadata": {},
   "source": [
    "# One-Hot Encoding"
   ]
  },
  {
   "cell_type": "code",
   "execution_count": 306,
   "id": "be53d6af",
   "metadata": {},
   "outputs": [],
   "source": [
    "from sklearn.preprocessing import OneHotEncoder"
   ]
  },
  {
   "cell_type": "code",
   "execution_count": 307,
   "id": "7b3f7334",
   "metadata": {},
   "outputs": [
    {
     "data": {
      "text/html": [
       "<div>\n",
       "<style scoped>\n",
       "    .dataframe tbody tr th:only-of-type {\n",
       "        vertical-align: middle;\n",
       "    }\n",
       "\n",
       "    .dataframe tbody tr th {\n",
       "        vertical-align: top;\n",
       "    }\n",
       "\n",
       "    .dataframe thead th {\n",
       "        text-align: right;\n",
       "    }\n",
       "</style>\n",
       "<table border=\"1\" class=\"dataframe\">\n",
       "  <thead>\n",
       "    <tr style=\"text-align: right;\">\n",
       "      <th></th>\n",
       "      <th>type</th>\n",
       "    </tr>\n",
       "  </thead>\n",
       "  <tbody>\n",
       "    <tr>\n",
       "      <th>0</th>\n",
       "      <td>PAYMENT</td>\n",
       "    </tr>\n",
       "    <tr>\n",
       "      <th>1</th>\n",
       "      <td>PAYMENT</td>\n",
       "    </tr>\n",
       "    <tr>\n",
       "      <th>2</th>\n",
       "      <td>TRANSFER</td>\n",
       "    </tr>\n",
       "    <tr>\n",
       "      <th>3</th>\n",
       "      <td>CASH_OUT</td>\n",
       "    </tr>\n",
       "    <tr>\n",
       "      <th>4</th>\n",
       "      <td>PAYMENT</td>\n",
       "    </tr>\n",
       "  </tbody>\n",
       "</table>\n",
       "</div>"
      ],
      "text/plain": [
       "       type\n",
       "0   PAYMENT\n",
       "1   PAYMENT\n",
       "2  TRANSFER\n",
       "3  CASH_OUT\n",
       "4   PAYMENT"
      ]
     },
     "execution_count": 307,
     "metadata": {},
     "output_type": "execute_result"
    }
   ],
   "source": [
    "df1=df[['type']]\n",
    "df1.head()\n",
    "#use df1 to store type column, which is convert using one-hot encoding"
   ]
  },
  {
   "cell_type": "code",
   "execution_count": 308,
   "id": "c15d43a9",
   "metadata": {},
   "outputs": [
    {
     "name": "stderr",
     "output_type": "stream",
     "text": [
      "D:\\Users\\A\\anaconda\\Lib\\site-packages\\sklearn\\preprocessing\\_encoders.py:972: FutureWarning: `sparse` was renamed to `sparse_output` in version 1.2 and will be removed in 1.4. `sparse_output` is ignored unless you leave `sparse` to its default value.\n",
      "  warnings.warn(\n"
     ]
    },
    {
     "data": {
      "text/plain": [
       "array([[0., 0., 0., 1., 0.],\n",
       "       [0., 0., 0., 1., 0.],\n",
       "       [0., 0., 0., 0., 1.],\n",
       "       ...,\n",
       "       [0., 0., 0., 0., 1.],\n",
       "       [0., 0., 0., 0., 1.],\n",
       "       [0., 0., 0., 0., 1.]])"
      ]
     },
     "execution_count": 308,
     "metadata": {},
     "output_type": "execute_result"
    }
   ],
   "source": [
    "oh_enc = OneHotEncoder(sparse=False,)\n",
    "#it provide output in Numpy array\n",
    "oh_enc_arr = oh_enc.fit_transform(df1)\n",
    "\n",
    "oh_enc_arr"
   ]
  },
  {
   "cell_type": "code",
   "execution_count": 309,
   "id": "e26b12ea",
   "metadata": {},
   "outputs": [
    {
     "data": {
      "text/html": [
       "<div>\n",
       "<style scoped>\n",
       "    .dataframe tbody tr th:only-of-type {\n",
       "        vertical-align: middle;\n",
       "    }\n",
       "\n",
       "    .dataframe tbody tr th {\n",
       "        vertical-align: top;\n",
       "    }\n",
       "\n",
       "    .dataframe thead th {\n",
       "        text-align: right;\n",
       "    }\n",
       "</style>\n",
       "<table border=\"1\" class=\"dataframe\">\n",
       "  <thead>\n",
       "    <tr style=\"text-align: right;\">\n",
       "      <th></th>\n",
       "      <th>type_CASH_IN</th>\n",
       "      <th>type_CASH_OUT</th>\n",
       "      <th>type_DEBIT</th>\n",
       "      <th>type_PAYMENT</th>\n",
       "      <th>type_TRANSFER</th>\n",
       "    </tr>\n",
       "  </thead>\n",
       "  <tbody>\n",
       "    <tr>\n",
       "      <th>0</th>\n",
       "      <td>False</td>\n",
       "      <td>False</td>\n",
       "      <td>False</td>\n",
       "      <td>True</td>\n",
       "      <td>False</td>\n",
       "    </tr>\n",
       "    <tr>\n",
       "      <th>1</th>\n",
       "      <td>False</td>\n",
       "      <td>False</td>\n",
       "      <td>False</td>\n",
       "      <td>True</td>\n",
       "      <td>False</td>\n",
       "    </tr>\n",
       "    <tr>\n",
       "      <th>2</th>\n",
       "      <td>False</td>\n",
       "      <td>False</td>\n",
       "      <td>False</td>\n",
       "      <td>False</td>\n",
       "      <td>True</td>\n",
       "    </tr>\n",
       "    <tr>\n",
       "      <th>3</th>\n",
       "      <td>False</td>\n",
       "      <td>True</td>\n",
       "      <td>False</td>\n",
       "      <td>False</td>\n",
       "      <td>False</td>\n",
       "    </tr>\n",
       "  </tbody>\n",
       "</table>\n",
       "</div>"
      ],
      "text/plain": [
       "   type_CASH_IN  type_CASH_OUT  type_DEBIT  type_PAYMENT  type_TRANSFER\n",
       "0         False          False       False          True          False\n",
       "1         False          False       False          True          False\n",
       "2         False          False       False         False           True\n",
       "3         False           True       False         False          False"
      ]
     },
     "execution_count": 309,
     "metadata": {},
     "output_type": "execute_result"
    }
   ],
   "source": [
    "dummy_df=pd.get_dummies(df1)\n",
    "dummy_df.head(4)"
   ]
  },
  {
   "cell_type": "code",
   "execution_count": 310,
   "id": "372259ae",
   "metadata": {},
   "outputs": [
    {
     "data": {
      "text/plain": [
       "Index(['type_CASH_IN', 'type_CASH_OUT', 'type_DEBIT', 'type_PAYMENT',\n",
       "       'type_TRANSFER'],\n",
       "      dtype='object')"
      ]
     },
     "execution_count": 310,
     "metadata": {},
     "output_type": "execute_result"
    }
   ],
   "source": [
    "dummy_df.keys()"
   ]
  },
  {
   "cell_type": "code",
   "execution_count": 311,
   "id": "c534c398",
   "metadata": {},
   "outputs": [
    {
     "name": "stderr",
     "output_type": "stream",
     "text": [
      "D:\\Users\\A\\anaconda\\Lib\\site-packages\\sklearn\\preprocessing\\_encoders.py:972: FutureWarning: `sparse` was renamed to `sparse_output` in version 1.2 and will be removed in 1.4. `sparse_output` is ignored unless you leave `sparse` to its default value.\n",
      "  warnings.warn(\n"
     ]
    },
    {
     "data": {
      "text/plain": [
       "array([[0., 0., 1., 0.],\n",
       "       [0., 0., 1., 0.],\n",
       "       [0., 0., 0., 1.],\n",
       "       ...,\n",
       "       [0., 0., 0., 1.],\n",
       "       [0., 0., 0., 1.],\n",
       "       [0., 0., 0., 1.]])"
      ]
     },
     "execution_count": 311,
     "metadata": {},
     "output_type": "execute_result"
    }
   ],
   "source": [
    "oh_enc = OneHotEncoder(sparse=False,drop='first')\n",
    "oh_enc_arr = oh_enc.fit_transform(df1)\n",
    "oh_enc_arr"
   ]
  },
  {
   "cell_type": "code",
   "execution_count": 312,
   "id": "6ad7ba44",
   "metadata": {},
   "outputs": [
    {
     "data": {
      "text/html": [
       "<div>\n",
       "<style scoped>\n",
       "    .dataframe tbody tr th:only-of-type {\n",
       "        vertical-align: middle;\n",
       "    }\n",
       "\n",
       "    .dataframe tbody tr th {\n",
       "        vertical-align: top;\n",
       "    }\n",
       "\n",
       "    .dataframe thead th {\n",
       "        text-align: right;\n",
       "    }\n",
       "</style>\n",
       "<table border=\"1\" class=\"dataframe\">\n",
       "  <thead>\n",
       "    <tr style=\"text-align: right;\">\n",
       "      <th></th>\n",
       "      <th>type_CASH_OUT</th>\n",
       "      <th>type_DEBIT</th>\n",
       "      <th>type_PAYMENT</th>\n",
       "      <th>type_TRANSFER</th>\n",
       "    </tr>\n",
       "  </thead>\n",
       "  <tbody>\n",
       "    <tr>\n",
       "      <th>0</th>\n",
       "      <td>0.0</td>\n",
       "      <td>0.0</td>\n",
       "      <td>1.0</td>\n",
       "      <td>0.0</td>\n",
       "    </tr>\n",
       "    <tr>\n",
       "      <th>1</th>\n",
       "      <td>0.0</td>\n",
       "      <td>0.0</td>\n",
       "      <td>1.0</td>\n",
       "      <td>0.0</td>\n",
       "    </tr>\n",
       "    <tr>\n",
       "      <th>2</th>\n",
       "      <td>0.0</td>\n",
       "      <td>0.0</td>\n",
       "      <td>0.0</td>\n",
       "      <td>1.0</td>\n",
       "    </tr>\n",
       "    <tr>\n",
       "      <th>3</th>\n",
       "      <td>1.0</td>\n",
       "      <td>0.0</td>\n",
       "      <td>0.0</td>\n",
       "      <td>0.0</td>\n",
       "    </tr>\n",
       "    <tr>\n",
       "      <th>4</th>\n",
       "      <td>0.0</td>\n",
       "      <td>0.0</td>\n",
       "      <td>1.0</td>\n",
       "      <td>0.0</td>\n",
       "    </tr>\n",
       "    <tr>\n",
       "      <th>...</th>\n",
       "      <td>...</td>\n",
       "      <td>...</td>\n",
       "      <td>...</td>\n",
       "      <td>...</td>\n",
       "    </tr>\n",
       "    <tr>\n",
       "      <th>1204</th>\n",
       "      <td>0.0</td>\n",
       "      <td>0.0</td>\n",
       "      <td>0.0</td>\n",
       "      <td>1.0</td>\n",
       "    </tr>\n",
       "    <tr>\n",
       "      <th>1205</th>\n",
       "      <td>0.0</td>\n",
       "      <td>0.0</td>\n",
       "      <td>0.0</td>\n",
       "      <td>1.0</td>\n",
       "    </tr>\n",
       "    <tr>\n",
       "      <th>1206</th>\n",
       "      <td>0.0</td>\n",
       "      <td>0.0</td>\n",
       "      <td>0.0</td>\n",
       "      <td>1.0</td>\n",
       "    </tr>\n",
       "    <tr>\n",
       "      <th>1207</th>\n",
       "      <td>0.0</td>\n",
       "      <td>0.0</td>\n",
       "      <td>0.0</td>\n",
       "      <td>1.0</td>\n",
       "    </tr>\n",
       "    <tr>\n",
       "      <th>1208</th>\n",
       "      <td>0.0</td>\n",
       "      <td>0.0</td>\n",
       "      <td>0.0</td>\n",
       "      <td>1.0</td>\n",
       "    </tr>\n",
       "  </tbody>\n",
       "</table>\n",
       "<p>1209 rows × 4 columns</p>\n",
       "</div>"
      ],
      "text/plain": [
       "      type_CASH_OUT  type_DEBIT  type_PAYMENT  type_TRANSFER\n",
       "0               0.0         0.0           1.0            0.0\n",
       "1               0.0         0.0           1.0            0.0\n",
       "2               0.0         0.0           0.0            1.0\n",
       "3               1.0         0.0           0.0            0.0\n",
       "4               0.0         0.0           1.0            0.0\n",
       "...             ...         ...           ...            ...\n",
       "1204            0.0         0.0           0.0            1.0\n",
       "1205            0.0         0.0           0.0            1.0\n",
       "1206            0.0         0.0           0.0            1.0\n",
       "1207            0.0         0.0           0.0            1.0\n",
       "1208            0.0         0.0           0.0            1.0\n",
       "\n",
       "[1209 rows x 4 columns]"
      ]
     },
     "execution_count": 312,
     "metadata": {},
     "output_type": "execute_result"
    }
   ],
   "source": [
    "oh_enc_df = pd.DataFrame(oh_enc_arr, columns=['type_CASH_OUT', 'type_DEBIT', 'type_PAYMENT',\n",
    "       'type_TRANSFER'] ,)\n",
    "\n",
    "oh_enc_df\n"
   ]
  },
  {
   "cell_type": "code",
   "execution_count": 313,
   "id": "68638dfe",
   "metadata": {},
   "outputs": [
    {
     "name": "stderr",
     "output_type": "stream",
     "text": [
      "C:\\Users\\A\\AppData\\Local\\Temp\\ipykernel_8600\\4175194588.py:1: SettingWithCopyWarning: \n",
      "A value is trying to be set on a copy of a slice from a DataFrame.\n",
      "Try using .loc[row_indexer,col_indexer] = value instead\n",
      "\n",
      "See the caveats in the documentation: https://pandas.pydata.org/pandas-docs/stable/user_guide/indexing.html#returning-a-view-versus-a-copy\n",
      "  df1['type_CASH_OUT'] = oh_enc_df[['type_TRANSFER']].copy()\n"
     ]
    }
   ],
   "source": [
    "df1['type_CASH_OUT'] = oh_enc_df[['type_TRANSFER']].copy()"
   ]
  },
  {
   "cell_type": "code",
   "execution_count": 314,
   "id": "948563b0",
   "metadata": {},
   "outputs": [
    {
     "name": "stderr",
     "output_type": "stream",
     "text": [
      "C:\\Users\\A\\AppData\\Local\\Temp\\ipykernel_8600\\3013822764.py:1: SettingWithCopyWarning: \n",
      "A value is trying to be set on a copy of a slice from a DataFrame.\n",
      "Try using .loc[row_indexer,col_indexer] = value instead\n",
      "\n",
      "See the caveats in the documentation: https://pandas.pydata.org/pandas-docs/stable/user_guide/indexing.html#returning-a-view-versus-a-copy\n",
      "  df1['type_CASH_OUT'] = oh_enc_df[['type_PAYMENT']].copy()\n"
     ]
    }
   ],
   "source": [
    "df1['type_CASH_OUT'] = oh_enc_df[['type_PAYMENT']].copy()"
   ]
  },
  {
   "cell_type": "code",
   "execution_count": 315,
   "id": "769b2849",
   "metadata": {},
   "outputs": [
    {
     "name": "stderr",
     "output_type": "stream",
     "text": [
      "C:\\Users\\A\\AppData\\Local\\Temp\\ipykernel_8600\\153836189.py:1: SettingWithCopyWarning: \n",
      "A value is trying to be set on a copy of a slice from a DataFrame.\n",
      "Try using .loc[row_indexer,col_indexer] = value instead\n",
      "\n",
      "See the caveats in the documentation: https://pandas.pydata.org/pandas-docs/stable/user_guide/indexing.html#returning-a-view-versus-a-copy\n",
      "  df1['type_CASH_OUT'] = oh_enc_df[['type_DEBIT']].copy()\n"
     ]
    }
   ],
   "source": [
    "df1['type_CASH_OUT'] = oh_enc_df[['type_DEBIT']].copy()"
   ]
  },
  {
   "cell_type": "code",
   "execution_count": 316,
   "id": "17014fa9",
   "metadata": {},
   "outputs": [
    {
     "name": "stderr",
     "output_type": "stream",
     "text": [
      "C:\\Users\\A\\AppData\\Local\\Temp\\ipykernel_8600\\4240181564.py:1: SettingWithCopyWarning: \n",
      "A value is trying to be set on a copy of a slice from a DataFrame.\n",
      "Try using .loc[row_indexer,col_indexer] = value instead\n",
      "\n",
      "See the caveats in the documentation: https://pandas.pydata.org/pandas-docs/stable/user_guide/indexing.html#returning-a-view-versus-a-copy\n",
      "  df1['type'] = df1[['type_CASH_OUT']].copy()\n"
     ]
    }
   ],
   "source": [
    "df1['type'] = df1[['type_CASH_OUT']].copy()"
   ]
  },
  {
   "cell_type": "code",
   "execution_count": 317,
   "id": "a3639d63",
   "metadata": {},
   "outputs": [
    {
     "name": "stdout",
     "output_type": "stream",
     "text": [
      "Print the dataset after converting type column\n"
     ]
    },
    {
     "data": {
      "text/html": [
       "<div>\n",
       "<style scoped>\n",
       "    .dataframe tbody tr th:only-of-type {\n",
       "        vertical-align: middle;\n",
       "    }\n",
       "\n",
       "    .dataframe tbody tr th {\n",
       "        vertical-align: top;\n",
       "    }\n",
       "\n",
       "    .dataframe thead th {\n",
       "        text-align: right;\n",
       "    }\n",
       "</style>\n",
       "<table border=\"1\" class=\"dataframe\">\n",
       "  <thead>\n",
       "    <tr style=\"text-align: right;\">\n",
       "      <th></th>\n",
       "      <th>step</th>\n",
       "      <th>type</th>\n",
       "      <th>amount</th>\n",
       "      <th>nameOrig</th>\n",
       "      <th>oldbalanceOrg</th>\n",
       "      <th>newbalanceOrig</th>\n",
       "      <th>nameDest</th>\n",
       "      <th>oldbalanceDest</th>\n",
       "      <th>newbalanceDest</th>\n",
       "      <th>isFraud</th>\n",
       "    </tr>\n",
       "  </thead>\n",
       "  <tbody>\n",
       "    <tr>\n",
       "      <th>0</th>\n",
       "      <td>1</td>\n",
       "      <td>0.0</td>\n",
       "      <td>9839.64</td>\n",
       "      <td>C1231006815</td>\n",
       "      <td>170136.0</td>\n",
       "      <td>160296.36</td>\n",
       "      <td>M1979787155</td>\n",
       "      <td>0.0</td>\n",
       "      <td>0.0</td>\n",
       "      <td>0</td>\n",
       "    </tr>\n",
       "    <tr>\n",
       "      <th>1</th>\n",
       "      <td>1</td>\n",
       "      <td>0.0</td>\n",
       "      <td>1864.28</td>\n",
       "      <td>C1666544295</td>\n",
       "      <td>21249.0</td>\n",
       "      <td>19384.72</td>\n",
       "      <td>M2044282225</td>\n",
       "      <td>0.0</td>\n",
       "      <td>0.0</td>\n",
       "      <td>0</td>\n",
       "    </tr>\n",
       "    <tr>\n",
       "      <th>2</th>\n",
       "      <td>1</td>\n",
       "      <td>0.0</td>\n",
       "      <td>181.00</td>\n",
       "      <td>C1305486145</td>\n",
       "      <td>181.0</td>\n",
       "      <td>0.00</td>\n",
       "      <td>C553264065</td>\n",
       "      <td>0.0</td>\n",
       "      <td>0.0</td>\n",
       "      <td>1</td>\n",
       "    </tr>\n",
       "    <tr>\n",
       "      <th>3</th>\n",
       "      <td>1</td>\n",
       "      <td>0.0</td>\n",
       "      <td>181.00</td>\n",
       "      <td>C840083671</td>\n",
       "      <td>181.0</td>\n",
       "      <td>0.00</td>\n",
       "      <td>C38997010</td>\n",
       "      <td>21182.0</td>\n",
       "      <td>0.0</td>\n",
       "      <td>1</td>\n",
       "    </tr>\n",
       "    <tr>\n",
       "      <th>4</th>\n",
       "      <td>1</td>\n",
       "      <td>0.0</td>\n",
       "      <td>11668.14</td>\n",
       "      <td>C2048537720</td>\n",
       "      <td>41554.0</td>\n",
       "      <td>29885.86</td>\n",
       "      <td>M1230701703</td>\n",
       "      <td>0.0</td>\n",
       "      <td>0.0</td>\n",
       "      <td>0</td>\n",
       "    </tr>\n",
       "  </tbody>\n",
       "</table>\n",
       "</div>"
      ],
      "text/plain": [
       "   step type    amount     nameOrig  oldbalanceOrg  newbalanceOrig  \\\n",
       "0     1  0.0   9839.64  C1231006815       170136.0       160296.36   \n",
       "1     1  0.0   1864.28  C1666544295        21249.0        19384.72   \n",
       "2     1  0.0    181.00  C1305486145          181.0            0.00   \n",
       "3     1  0.0    181.00   C840083671          181.0            0.00   \n",
       "4     1  0.0  11668.14  C2048537720        41554.0        29885.86   \n",
       "\n",
       "      nameDest  oldbalanceDest  newbalanceDest  isFraud  \n",
       "0  M1979787155             0.0             0.0        0  \n",
       "1  M2044282225             0.0             0.0        0  \n",
       "2   C553264065             0.0             0.0        1  \n",
       "3    C38997010         21182.0             0.0        1  \n",
       "4  M1230701703             0.0             0.0        0  "
      ]
     },
     "execution_count": 317,
     "metadata": {},
     "output_type": "execute_result"
    }
   ],
   "source": [
    "print(\"Print the dataset after converting type column\")\n",
    "df.update(df1)\n",
    "df.head()"
   ]
  },
  {
   "cell_type": "markdown",
   "id": "f640fb8d",
   "metadata": {},
   "source": [
    "# Split the Data"
   ]
  },
  {
   "cell_type": "code",
   "execution_count": 318,
   "id": "a87d968f",
   "metadata": {},
   "outputs": [],
   "source": [
    "x=np.array(df[['type','amount','oldbalanceOrg','newbalanceOrig']])\n",
    "y=np.array(df.iloc[:,-1])"
   ]
  },
  {
   "cell_type": "code",
   "execution_count": 319,
   "id": "b133ac60",
   "metadata": {},
   "outputs": [
    {
     "name": "stdout",
     "output_type": "stream",
     "text": [
      "Shape of x_train =  (967, 4)\n",
      "Shape of y_train =  (967,)\n",
      "Shape of x_test =  (242, 4)\n",
      "Shape of y_test =  (242,)\n"
     ]
    }
   ],
   "source": [
    "from sklearn.model_selection import train_test_split\n",
    "x_train, x_test, y_train, y_test = train_test_split(x, y, test_size=0.2, random_state=51)\n",
    "\n",
    "print('Shape of x_train = ', x_train.shape)\n",
    "print('Shape of y_train = ', y_train.shape)\n",
    "print('Shape of x_test = ', x_test.shape)\n",
    "print('Shape of y_test = ', y_test.shape)"
   ]
  },
  {
   "cell_type": "markdown",
   "id": "d897befc",
   "metadata": {},
   "source": [
    "# Feature Scaling"
   ]
  },
  {
   "cell_type": "code",
   "execution_count": 320,
   "id": "81f3b4d2",
   "metadata": {},
   "outputs": [],
   "source": [
    "from sklearn.preprocessing import StandardScaler\n",
    "sc=StandardScaler()"
   ]
  },
  {
   "cell_type": "code",
   "execution_count": 321,
   "id": "e0a81872",
   "metadata": {},
   "outputs": [
    {
     "data": {
      "text/html": [
       "<style>#sk-container-id-19 {color: black;}#sk-container-id-19 pre{padding: 0;}#sk-container-id-19 div.sk-toggleable {background-color: white;}#sk-container-id-19 label.sk-toggleable__label {cursor: pointer;display: block;width: 100%;margin-bottom: 0;padding: 0.3em;box-sizing: border-box;text-align: center;}#sk-container-id-19 label.sk-toggleable__label-arrow:before {content: \"▸\";float: left;margin-right: 0.25em;color: #696969;}#sk-container-id-19 label.sk-toggleable__label-arrow:hover:before {color: black;}#sk-container-id-19 div.sk-estimator:hover label.sk-toggleable__label-arrow:before {color: black;}#sk-container-id-19 div.sk-toggleable__content {max-height: 0;max-width: 0;overflow: hidden;text-align: left;background-color: #f0f8ff;}#sk-container-id-19 div.sk-toggleable__content pre {margin: 0.2em;color: black;border-radius: 0.25em;background-color: #f0f8ff;}#sk-container-id-19 input.sk-toggleable__control:checked~div.sk-toggleable__content {max-height: 200px;max-width: 100%;overflow: auto;}#sk-container-id-19 input.sk-toggleable__control:checked~label.sk-toggleable__label-arrow:before {content: \"▾\";}#sk-container-id-19 div.sk-estimator input.sk-toggleable__control:checked~label.sk-toggleable__label {background-color: #d4ebff;}#sk-container-id-19 div.sk-label input.sk-toggleable__control:checked~label.sk-toggleable__label {background-color: #d4ebff;}#sk-container-id-19 input.sk-hidden--visually {border: 0;clip: rect(1px 1px 1px 1px);clip: rect(1px, 1px, 1px, 1px);height: 1px;margin: -1px;overflow: hidden;padding: 0;position: absolute;width: 1px;}#sk-container-id-19 div.sk-estimator {font-family: monospace;background-color: #f0f8ff;border: 1px dotted black;border-radius: 0.25em;box-sizing: border-box;margin-bottom: 0.5em;}#sk-container-id-19 div.sk-estimator:hover {background-color: #d4ebff;}#sk-container-id-19 div.sk-parallel-item::after {content: \"\";width: 100%;border-bottom: 1px solid gray;flex-grow: 1;}#sk-container-id-19 div.sk-label:hover label.sk-toggleable__label {background-color: #d4ebff;}#sk-container-id-19 div.sk-serial::before {content: \"\";position: absolute;border-left: 1px solid gray;box-sizing: border-box;top: 0;bottom: 0;left: 50%;z-index: 0;}#sk-container-id-19 div.sk-serial {display: flex;flex-direction: column;align-items: center;background-color: white;padding-right: 0.2em;padding-left: 0.2em;position: relative;}#sk-container-id-19 div.sk-item {position: relative;z-index: 1;}#sk-container-id-19 div.sk-parallel {display: flex;align-items: stretch;justify-content: center;background-color: white;position: relative;}#sk-container-id-19 div.sk-item::before, #sk-container-id-19 div.sk-parallel-item::before {content: \"\";position: absolute;border-left: 1px solid gray;box-sizing: border-box;top: 0;bottom: 0;left: 50%;z-index: -1;}#sk-container-id-19 div.sk-parallel-item {display: flex;flex-direction: column;z-index: 1;position: relative;background-color: white;}#sk-container-id-19 div.sk-parallel-item:first-child::after {align-self: flex-end;width: 50%;}#sk-container-id-19 div.sk-parallel-item:last-child::after {align-self: flex-start;width: 50%;}#sk-container-id-19 div.sk-parallel-item:only-child::after {width: 0;}#sk-container-id-19 div.sk-dashed-wrapped {border: 1px dashed gray;margin: 0 0.4em 0.5em 0.4em;box-sizing: border-box;padding-bottom: 0.4em;background-color: white;}#sk-container-id-19 div.sk-label label {font-family: monospace;font-weight: bold;display: inline-block;line-height: 1.2em;}#sk-container-id-19 div.sk-label-container {text-align: center;}#sk-container-id-19 div.sk-container {/* jupyter's `normalize.less` sets `[hidden] { display: none; }` but bootstrap.min.css set `[hidden] { display: none !important; }` so we also need the `!important` here to be able to override the default hidden behavior on the sphinx rendered scikit-learn.org. See: https://github.com/scikit-learn/scikit-learn/issues/21755 */display: inline-block !important;position: relative;}#sk-container-id-19 div.sk-text-repr-fallback {display: none;}</style><div id=\"sk-container-id-19\" class=\"sk-top-container\"><div class=\"sk-text-repr-fallback\"><pre>StandardScaler()</pre><b>In a Jupyter environment, please rerun this cell to show the HTML representation or trust the notebook. <br />On GitHub, the HTML representation is unable to render, please try loading this page with nbviewer.org.</b></div><div class=\"sk-container\" hidden><div class=\"sk-item\"><div class=\"sk-estimator sk-toggleable\"><input class=\"sk-toggleable__control sk-hidden--visually\" id=\"sk-estimator-id-19\" type=\"checkbox\" checked><label for=\"sk-estimator-id-19\" class=\"sk-toggleable__label sk-toggleable__label-arrow\">StandardScaler</label><div class=\"sk-toggleable__content\"><pre>StandardScaler()</pre></div></div></div></div></div>"
      ],
      "text/plain": [
       "StandardScaler()"
      ]
     },
     "execution_count": 321,
     "metadata": {},
     "output_type": "execute_result"
    }
   ],
   "source": [
    "sc.fit(x_train)"
   ]
  },
  {
   "cell_type": "markdown",
   "id": "958a3d7b",
   "metadata": {},
   "source": [
    "# Apply Machine Learning Algorithm"
   ]
  },
  {
   "cell_type": "markdown",
   "id": "8e915af1",
   "metadata": {},
   "source": [
    "# Random Forest Classifier"
   ]
  },
  {
   "cell_type": "code",
   "execution_count": 322,
   "id": "47371d04",
   "metadata": {},
   "outputs": [],
   "source": [
    "# load random forest classifier \n",
    "from sklearn.ensemble import RandomForestClassifier"
   ]
  },
  {
   "cell_type": "code",
   "execution_count": 323,
   "id": "a2abe3d6",
   "metadata": {},
   "outputs": [
    {
     "data": {
      "text/html": [
       "<style>#sk-container-id-20 {color: black;}#sk-container-id-20 pre{padding: 0;}#sk-container-id-20 div.sk-toggleable {background-color: white;}#sk-container-id-20 label.sk-toggleable__label {cursor: pointer;display: block;width: 100%;margin-bottom: 0;padding: 0.3em;box-sizing: border-box;text-align: center;}#sk-container-id-20 label.sk-toggleable__label-arrow:before {content: \"▸\";float: left;margin-right: 0.25em;color: #696969;}#sk-container-id-20 label.sk-toggleable__label-arrow:hover:before {color: black;}#sk-container-id-20 div.sk-estimator:hover label.sk-toggleable__label-arrow:before {color: black;}#sk-container-id-20 div.sk-toggleable__content {max-height: 0;max-width: 0;overflow: hidden;text-align: left;background-color: #f0f8ff;}#sk-container-id-20 div.sk-toggleable__content pre {margin: 0.2em;color: black;border-radius: 0.25em;background-color: #f0f8ff;}#sk-container-id-20 input.sk-toggleable__control:checked~div.sk-toggleable__content {max-height: 200px;max-width: 100%;overflow: auto;}#sk-container-id-20 input.sk-toggleable__control:checked~label.sk-toggleable__label-arrow:before {content: \"▾\";}#sk-container-id-20 div.sk-estimator input.sk-toggleable__control:checked~label.sk-toggleable__label {background-color: #d4ebff;}#sk-container-id-20 div.sk-label input.sk-toggleable__control:checked~label.sk-toggleable__label {background-color: #d4ebff;}#sk-container-id-20 input.sk-hidden--visually {border: 0;clip: rect(1px 1px 1px 1px);clip: rect(1px, 1px, 1px, 1px);height: 1px;margin: -1px;overflow: hidden;padding: 0;position: absolute;width: 1px;}#sk-container-id-20 div.sk-estimator {font-family: monospace;background-color: #f0f8ff;border: 1px dotted black;border-radius: 0.25em;box-sizing: border-box;margin-bottom: 0.5em;}#sk-container-id-20 div.sk-estimator:hover {background-color: #d4ebff;}#sk-container-id-20 div.sk-parallel-item::after {content: \"\";width: 100%;border-bottom: 1px solid gray;flex-grow: 1;}#sk-container-id-20 div.sk-label:hover label.sk-toggleable__label {background-color: #d4ebff;}#sk-container-id-20 div.sk-serial::before {content: \"\";position: absolute;border-left: 1px solid gray;box-sizing: border-box;top: 0;bottom: 0;left: 50%;z-index: 0;}#sk-container-id-20 div.sk-serial {display: flex;flex-direction: column;align-items: center;background-color: white;padding-right: 0.2em;padding-left: 0.2em;position: relative;}#sk-container-id-20 div.sk-item {position: relative;z-index: 1;}#sk-container-id-20 div.sk-parallel {display: flex;align-items: stretch;justify-content: center;background-color: white;position: relative;}#sk-container-id-20 div.sk-item::before, #sk-container-id-20 div.sk-parallel-item::before {content: \"\";position: absolute;border-left: 1px solid gray;box-sizing: border-box;top: 0;bottom: 0;left: 50%;z-index: -1;}#sk-container-id-20 div.sk-parallel-item {display: flex;flex-direction: column;z-index: 1;position: relative;background-color: white;}#sk-container-id-20 div.sk-parallel-item:first-child::after {align-self: flex-end;width: 50%;}#sk-container-id-20 div.sk-parallel-item:last-child::after {align-self: flex-start;width: 50%;}#sk-container-id-20 div.sk-parallel-item:only-child::after {width: 0;}#sk-container-id-20 div.sk-dashed-wrapped {border: 1px dashed gray;margin: 0 0.4em 0.5em 0.4em;box-sizing: border-box;padding-bottom: 0.4em;background-color: white;}#sk-container-id-20 div.sk-label label {font-family: monospace;font-weight: bold;display: inline-block;line-height: 1.2em;}#sk-container-id-20 div.sk-label-container {text-align: center;}#sk-container-id-20 div.sk-container {/* jupyter's `normalize.less` sets `[hidden] { display: none; }` but bootstrap.min.css set `[hidden] { display: none !important; }` so we also need the `!important` here to be able to override the default hidden behavior on the sphinx rendered scikit-learn.org. See: https://github.com/scikit-learn/scikit-learn/issues/21755 */display: inline-block !important;position: relative;}#sk-container-id-20 div.sk-text-repr-fallback {display: none;}</style><div id=\"sk-container-id-20\" class=\"sk-top-container\"><div class=\"sk-text-repr-fallback\"><pre>RandomForestClassifier()</pre><b>In a Jupyter environment, please rerun this cell to show the HTML representation or trust the notebook. <br />On GitHub, the HTML representation is unable to render, please try loading this page with nbviewer.org.</b></div><div class=\"sk-container\" hidden><div class=\"sk-item\"><div class=\"sk-estimator sk-toggleable\"><input class=\"sk-toggleable__control sk-hidden--visually\" id=\"sk-estimator-id-20\" type=\"checkbox\" checked><label for=\"sk-estimator-id-20\" class=\"sk-toggleable__label sk-toggleable__label-arrow\">RandomForestClassifier</label><div class=\"sk-toggleable__content\"><pre>RandomForestClassifier()</pre></div></div></div></div></div>"
      ],
      "text/plain": [
       "RandomForestClassifier()"
      ]
     },
     "execution_count": 323,
     "metadata": {},
     "output_type": "execute_result"
    }
   ],
   "source": [
    "Classifier = RandomForestClassifier(criterion='gini')\n",
    "Classifier.fit(x_train,y_train)"
   ]
  },
  {
   "cell_type": "code",
   "execution_count": 324,
   "id": "fbbabcf6",
   "metadata": {},
   "outputs": [
    {
     "data": {
      "text/plain": [
       "array([[0.0, 6911.99, 6307878.9, 6300966.92],\n",
       "       [0.0, 2771.16, 60721.0, 57949.84],\n",
       "       [0.0, 3823.08, 10382.0, 6558.92],\n",
       "       [0.0, 17373.04, 19873.62, 2500.58],\n",
       "       [0.0, 9758.09, 21217.0, 11458.91],\n",
       "       [0.0, 1175.59, 20509.0, 19333.41],\n",
       "       [0.0, 1873.13, 139873.0, 137999.87],\n",
       "       [0.0, 593.4, 0.0, 0.0],\n",
       "       [0.0, 416001.33, 0.0, 0.0],\n",
       "       [0.0, 58.21, 14506.0, 14447.79],\n",
       "       [0.0, 230021.01, 1861208.43, 2091229.45],\n",
       "       [0.0, 101940.14, 0.0, 0.0],\n",
       "       [0.0, 17231.46, 0.0, 0.0],\n",
       "       [0.0, 2998.2, 15593.45, 12595.25],\n",
       "       [0.0, 2278.19, 290.0, 0.0],\n",
       "       [0.0, 7659.86, 544.0, 0.0],\n",
       "       [0.0, 5937.72, 21779.0, 15841.28],\n",
       "       [0.0, 3896.42, 11558.39, 7661.97],\n",
       "       [0.0, 116977.58, 0.0, 0.0],\n",
       "       [0.0, 9805.46, 0.0, 0.0],\n",
       "       [0.0, 128278.74, 0.0, 0.0],\n",
       "       [0.0, 132953.45, 7964926.82, 8097880.27],\n",
       "       [0.0, 1180.55, 1345065.25, 1343884.7],\n",
       "       [0.0, 26923.42, 11049.67, 0.0],\n",
       "       [0.0, 4306.89, 256849.49, 252542.6],\n",
       "       [1.0, 8679.29, 150592.0, 141912.71],\n",
       "       [0.0, 1122.14, 30206.0, 29083.86],\n",
       "       [0.0, 233.76, 54214.0, 53980.24],\n",
       "       [0.0, 250968.18, 0.0, 0.0],\n",
       "       [0.0, 15054.61, 295596.43, 310651.04],\n",
       "       [0.0, 252908.87, 0.0, 0.0],\n",
       "       [0.0, 65521.42, 0.0, 0.0],\n",
       "       [0.0, 9753.55, 60829.0, 51075.45],\n",
       "       [0.0, 88987.11, 2816.58, 0.0],\n",
       "       [0.0, 9920.52, 0.0, 0.0],\n",
       "       [0.0, 4270.02, 9516.0, 5245.98],\n",
       "       [0.0, 142577.44, 1601450.63, 1744028.07],\n",
       "       [0.0, 799483.57, 0.0, 0.0],\n",
       "       [0.0, 80311.89, 0.0, 0.0],\n",
       "       [0.0, 84980.31, 2641780.43, 2726760.74],\n",
       "       [0.0, 472385.25, 26210.19, 0.0],\n",
       "       [0.0, 9577.45, 519812.39, 529389.85],\n",
       "       [1.0, 13758.63, 29858.0, 16099.37],\n",
       "       [0.0, 3464.41, 5548.0, 2083.59],\n",
       "       [0.0, 7506.65, 13860.27, 6353.62],\n",
       "       [0.0, 89327.65, 943628.44, 1032956.09],\n",
       "       [0.0, 6287.28, 4817829.42, 4824116.71],\n",
       "       [0.0, 2245.62, 30910.0, 28664.38],\n",
       "       [0.0, 8603.42, 253.0, 0.0],\n",
       "       [0.0, 177652.91, 23720.0, 0.0],\n",
       "       [0.0, 365510.05, 0.0, 0.0],\n",
       "       [0.0, 180368.84, 0.0, 0.0],\n",
       "       [0.0, 4843.93, 51718.0, 46874.07],\n",
       "       [0.0, 128487.35, 0.0, 0.0],\n",
       "       [1.0, 4497.87, 107388.0, 102890.13],\n",
       "       [0.0, 3060.54, 118643.46, 115582.92],\n",
       "       [0.0, 365.0, 319.0, 0.0],\n",
       "       [0.0, 174068.82, 65734.09, 0.0],\n",
       "       [0.0, 11438.39, 0.0, 0.0],\n",
       "       [0.0, 1193410.46, 0.0, 0.0],\n",
       "       [0.0, 2545478.01, 0.0, 0.0],\n",
       "       [0.0, 8354.27, 5611.0, 0.0],\n",
       "       [0.0, 160347.32, 7965270.68, 8125617.99],\n",
       "       [0.0, 4059.25, 4186.0, 126.75],\n",
       "       [0.0, 232953.64, 407590.65, 640544.28],\n",
       "       [0.0, 155122.86, 0.0, 0.0],\n",
       "       [0.0, 193605.38, 0.0, 0.0],\n",
       "       [0.0, 20128.0, 20128.0, 0.0],\n",
       "       [0.0, 132574.0, 0.0, 0.0],\n",
       "       [1.0, 4510.22, 10256.0, 5745.78],\n",
       "       [0.0, 1271.77, 6973823.5, 6975095.27],\n",
       "       [0.0, 4098.78, 503264.0, 499165.22],\n",
       "       [0.0, 5363.35, 81503.83, 76140.48],\n",
       "       [0.0, 8494.71, 11129.0, 2634.29],\n",
       "       [0.0, 5809.78, 99884.0, 94074.22],\n",
       "       [0.0, 117023.79, 0.0, 0.0],\n",
       "       [0.0, 173948.89, 7670859.72, 7844808.61],\n",
       "       [0.0, 330757.04, 103657.0, 0.0],\n",
       "       [0.0, 108600.78, 0.0, 0.0],\n",
       "       [0.0, 5842.61, 40.0, 0.0],\n",
       "       [0.0, 63807.17, 0.0, 0.0],\n",
       "       [0.0, 197031.04, 501828.4, 698859.44],\n",
       "       [0.0, 57794.61, 0.0, 0.0],\n",
       "       [1.0, 1150.14, 21634.0, 20483.86],\n",
       "       [0.0, 8550.9, 40060.0, 31509.1],\n",
       "       [0.0, 2528.1, 5037.0, 2508.9],\n",
       "       [0.0, 36437.06, 0.0, 0.0],\n",
       "       [0.0, 1553.21, 31516.0, 29962.79],\n",
       "       [0.0, 1445.06, 10892.0, 9446.94],\n",
       "       [0.0, 312108.51, 0.0, 0.0],\n",
       "       [0.0, 6432.26, 0.0, 0.0],\n",
       "       [0.0, 9536.54, 0.0, 0.0],\n",
       "       [0.0, 118235.16, 0.0, 0.0],\n",
       "       [0.0, 3666.42, 48117.0, 44450.58],\n",
       "       [0.0, 373185.07, 0.0, 0.0],\n",
       "       [0.0, 708.59, 14857.72, 14149.13],\n",
       "       [0.0, 13259.12, 581420.54, 568161.42],\n",
       "       [0.0, 5154.97, 9476.0, 4321.03],\n",
       "       [0.0, 314134.01, 2245807.73, 2559941.74],\n",
       "       [0.0, 83859.59, 0.0, 0.0],\n",
       "       [0.0, 8074.16, 21495.0, 13420.84],\n",
       "       [0.0, 6536.86, 17319.0, 10782.14],\n",
       "       [0.0, 764772.98, 3946209.08, 4710982.07],\n",
       "       [0.0, 11348.71, 734899.0, 723550.29],\n",
       "       [1.0, 12872.92, 11197.0, 0.0],\n",
       "       [0.0, 1718.29, 117811.0, 116092.71],\n",
       "       [0.0, 6854.06, 19853.0, 12998.94],\n",
       "       [0.0, 1328.59, 14469.0, 13140.41],\n",
       "       [0.0, 55827.09, 9907.0, 65734.09],\n",
       "       [0.0, 671.64, 15123.0, 14451.36],\n",
       "       [0.0, 12728.46, 83636.0, 70907.54],\n",
       "       [0.0, 311685.89, 10835.0, 0.0],\n",
       "       [0.0, 5946.79, 7541.59, 1594.8],\n",
       "       [0.0, 583848.46, 0.0, 0.0],\n",
       "       [0.0, 211075.91, 0.0, 0.0],\n",
       "       [0.0, 4573.12, 13490.65, 8917.54],\n",
       "       [0.0, 427175.03, 20465.43, 0.0],\n",
       "       [0.0, 27070.11, 346803.59, 373873.7],\n",
       "       [0.0, 7417.09, 843.0, 0.0],\n",
       "       [0.0, 116206.75, 283572.48, 167365.73],\n",
       "       [1.0, 5430.64, 5656.75, 226.11],\n",
       "       [0.0, 4419.04, 52951.0, 48531.96],\n",
       "       [0.0, 12162.01, 38372.2, 26210.19],\n",
       "       [0.0, 517915.91, 0.0, 0.0],\n",
       "       [0.0, 24105.5, 144.0, 24249.5],\n",
       "       [1.0, 996.0, 46132.0, 45136.0],\n",
       "       [0.0, 3876.41, 67852.0, 63975.59],\n",
       "       [0.0, 56145.85, 21528.0, 0.0],\n",
       "       [0.0, 193161.04, 6372625.28, 6565786.32],\n",
       "       [0.0, 96178.8, 0.0, 0.0],\n",
       "       [1.0, 9644.94, 4465.0, 0.0],\n",
       "       [0.0, 179253.24, 0.0, 0.0],\n",
       "       [0.0, 26051.33, 0.0, 0.0],\n",
       "       [0.0, 2056.59, 0.0, 0.0],\n",
       "       [0.0, 8553.73, 69404.0, 60850.27],\n",
       "       [0.0, 879.42, 115582.92, 114703.5],\n",
       "       [0.0, 3295.19, 233633.0, 230337.81],\n",
       "       [0.0, 8531.42, 18961.11, 10429.69],\n",
       "       [0.0, 584.52, 15479.0, 14894.48],\n",
       "       [0.0, 5843.75, 0.0, 0.0],\n",
       "       [0.0, 1157.86, 21156.0, 19998.14],\n",
       "       [0.0, 82685.93, 0.0, 0.0],\n",
       "       [0.0, 338767.1, 0.0, 0.0],\n",
       "       [0.0, 32325.24, 4473650.15, 4505975.39],\n",
       "       [1.0, 3058.8, 18138.0, 15079.2],\n",
       "       [0.0, 2270.41, 60640.12, 58369.71],\n",
       "       [0.0, 16631.14, 0.0, 0.0],\n",
       "       [0.0, 6443.58, 546.0, 0.0],\n",
       "       [0.0, 9778.81, 18824.0, 9045.19],\n",
       "       [0.0, 197186.52, 101380.99, 0.0],\n",
       "       [0.0, 5446.88, 666.0, 0.0],\n",
       "       [0.0, 6061.13, 443.0, 0.0],\n",
       "       [0.0, 5170.23, 184781.0, 179610.77],\n",
       "       [0.0, 34390.85, 0.0, 0.0],\n",
       "       [0.0, 360.13, 38939.0, 38578.87],\n",
       "       [0.0, 270824.42, 9716462.14, 9987286.56],\n",
       "       [0.0, 789419.02, 0.0, 0.0],\n",
       "       [0.0, 176334.26, 45136.0, 0.0],\n",
       "       [0.0, 3673.1, 30507.0, 26833.9],\n",
       "       [0.0, 7817.71, 53860.0, 46042.29],\n",
       "       [0.0, 5110.1, 87259.46, 82149.35],\n",
       "       [0.0, 8094.53, 50950.0, 42855.47],\n",
       "       [0.0, 182861.45, 3218806.87, 3401668.32],\n",
       "       [0.0, 134426.08, 6300464.17, 6434890.26],\n",
       "       [0.0, 248979.22, 0.0, 0.0],\n",
       "       [0.0, 4099.91, 21262.0, 17162.09],\n",
       "       [1.0, 300.41, 39167.0, 38866.59],\n",
       "       [0.0, 71532.24, 2101.19, 0.0],\n",
       "       [0.0, 131033.44, 0.0, 0.0],\n",
       "       [0.0, 10777.89, 105804.0, 95026.11],\n",
       "       [0.0, 3101.33, 32843.16, 29741.84],\n",
       "       [0.0, 1123206.66, 0.0, 0.0],\n",
       "       [0.0, 9738.95, 289748.0, 280009.05],\n",
       "       [0.0, 4355.66, 120.0, 0.0],\n",
       "       [0.0, 2867.14, 943.0, 0.0],\n",
       "       [0.0, 213490.87, 75550.57, 0.0],\n",
       "       [0.0, 61159.51, 0.0, 0.0],\n",
       "       [0.0, 348186.2, 0.0, 0.0],\n",
       "       [0.0, 8809.04, 0.0, 0.0],\n",
       "       [0.0, 5775.15, 132329.0, 126553.85],\n",
       "       [0.0, 4227.19, 36054.0, 31826.81],\n",
       "       [0.0, 1277212.77, 1277212.77, 0.0],\n",
       "       [0.0, 881.26, 5386.0, 4504.74],\n",
       "       [0.0, 9067.51, 1469995.06, 1479062.57],\n",
       "       [0.0, 161632.16, 310651.04, 472283.2],\n",
       "       [0.0, 1440296.14, 0.0, 0.0],\n",
       "       [0.0, 480222.51, 11110.0, 0.0],\n",
       "       [0.0, 704.74, 0.0, 0.0],\n",
       "       [0.0, 4932.54, 136555.0, 131622.46],\n",
       "       [0.0, 1582.67, 14528.0, 12945.33],\n",
       "       [0.0, 178370.36, 3340793.04, 3519163.4],\n",
       "       [0.0, 38071.17, 3633549.82, 3671620.98],\n",
       "       [0.0, 1213.64, 86078.0, 84864.36],\n",
       "       [0.0, 372.34, 65254.0, 64881.66],\n",
       "       [0.0, 5403.87, 14404.0, 9000.13],\n",
       "       [0.0, 3551.48, 1015017.79, 1011466.31],\n",
       "       [0.0, 3014.54, 15485.0, 12470.46],\n",
       "       [0.0, 143148.97, 4502611.13, 4645760.1],\n",
       "       [0.0, 10266.7, 3799476.47, 3809743.17],\n",
       "       [0.0, 190445.51, 0.0, 0.0],\n",
       "       [0.0, 1267.97, 6309146.87, 6307878.9],\n",
       "       [0.0, 198847.32, 6157562.25, 6356409.58],\n",
       "       [0.0, 25554.79, 2347.47, 0.0],\n",
       "       [0.0, 5213.25, 36380.0, 31166.75],\n",
       "       [0.0, 4391.44, 228.0, 0.0],\n",
       "       [0.0, 6284.18, 7858787.73, 7865071.9],\n",
       "       [0.0, 62073.54, 0.0, 0.0],\n",
       "       [0.0, 158995.29, 2766347.65, 2925342.94],\n",
       "       [0.0, 94253.33, 25203.05, 0.0],\n",
       "       [0.0, 2392.53, 104141.0, 101748.47],\n",
       "       [0.0, 507.12, 87005.0, 86497.88],\n",
       "       [0.0, 221654.28, 22377.0, 0.0],\n",
       "       [0.0, 13288.84, 21745.0, 8456.16],\n",
       "       [0.0, 4910.14, 41551.0, 36640.86],\n",
       "       [0.0, 4252.82, 5545.0, 1292.18],\n",
       "       [0.0, 10040.52, 61553.96, 51513.44],\n",
       "       [0.0, 148834.28, 4778217.62, 4927051.9],\n",
       "       [0.0, 2057.71, 25132.0, 23074.29],\n",
       "       [0.0, 262392.36, 0.0, 0.0],\n",
       "       [0.0, 4233.45, 0.0, 0.0],\n",
       "       [1.0, 3111.86, 64665.82, 61553.96],\n",
       "       [0.0, 5443.26, 236997.0, 231553.74],\n",
       "       [0.0, 1373.43, 13854.0, 12480.57],\n",
       "       [0.0, 162665.98, 1438784.65, 1601450.63],\n",
       "       [0.0, 15.06, 204682.0, 204666.94],\n",
       "       [0.0, 2061082.82, 0.0, 0.0],\n",
       "       [0.0, 71275.47, 8499043.13, 8570318.6],\n",
       "       [0.0, 82691.56, 0.0, 0.0],\n",
       "       [0.0, 18851.44, 3815815.51, 3834666.95],\n",
       "       [1.0, 5363.0, 21260.0, 15897.0],\n",
       "       [0.0, 142282.63, 0.0, 0.0],\n",
       "       [1.0, 8901.32, 8687.52, 0.0],\n",
       "       [0.0, 345698.98, 40419.0, 0.0],\n",
       "       [0.0, 10497.33, 2684.69, 0.0],\n",
       "       [0.0, 141131.23, 2277937.72, 2419068.96],\n",
       "       [0.0, 6165.58, 20925.0, 14759.42],\n",
       "       [0.0, 1697.56, 610733.41, 609035.85],\n",
       "       [0.0, 317393.38, 8906617.38, 9224010.75],\n",
       "       [0.0, 35063.63, 35063.63, 0.0],\n",
       "       [0.0, 112401.53, 0.0, 0.0],\n",
       "       [0.0, 2223.41, 17.0, 0.0],\n",
       "       [0.0, 39485.21, 0.0, 0.0]], dtype=object)"
      ]
     },
     "execution_count": 324,
     "metadata": {},
     "output_type": "execute_result"
    }
   ],
   "source": [
    "x_test"
   ]
  },
  {
   "cell_type": "code",
   "execution_count": 325,
   "id": "1c7ecfca",
   "metadata": {},
   "outputs": [
    {
     "data": {
      "text/plain": [
       "array([0, 0, 0, 0, 0, 0, 0, 0, 0, 0, 0, 0, 0, 0, 0, 0, 0, 0, 0, 0, 0, 0,\n",
       "       0, 0, 0, 0, 0, 0, 0, 0, 0, 0, 0, 0, 0, 0, 0, 0, 0, 0, 0, 0, 0, 0,\n",
       "       0, 0, 0, 0, 0, 0, 0, 0, 0, 0, 0, 0, 0, 0, 0, 0, 0, 0, 0, 0, 0, 0,\n",
       "       0, 1, 0, 0, 0, 0, 0, 0, 0, 0, 0, 0, 0, 0, 0, 0, 0, 0, 0, 0, 0, 0,\n",
       "       0, 0, 0, 0, 0, 0, 0, 0, 0, 0, 0, 0, 0, 0, 0, 0, 0, 0, 0, 0, 0, 0,\n",
       "       0, 0, 0, 0, 0, 0, 0, 0, 0, 0, 0, 0, 0, 0, 0, 0, 0, 0, 0, 0, 0, 0,\n",
       "       0, 0, 0, 0, 0, 0, 0, 0, 0, 0, 0, 0, 0, 0, 0, 0, 0, 0, 0, 0, 0, 0,\n",
       "       0, 0, 0, 0, 0, 0, 0, 0, 0, 0, 0, 0, 0, 0, 0, 0, 0, 0, 0, 0, 0, 0,\n",
       "       0, 0, 0, 0, 0, 1, 0, 0, 0, 0, 0, 0, 0, 0, 0, 0, 0, 0, 0, 0, 0, 0,\n",
       "       0, 0, 0, 0, 0, 0, 0, 0, 0, 0, 0, 0, 0, 0, 0, 0, 0, 0, 0, 0, 0, 0,\n",
       "       0, 0, 0, 0, 0, 0, 0, 0, 0, 0, 0, 0, 0, 0, 0, 0, 0, 0, 1, 0, 0, 0],\n",
       "      dtype=int64)"
      ]
     },
     "execution_count": 325,
     "metadata": {},
     "output_type": "execute_result"
    }
   ],
   "source": [
    "y_pred=Classifier.predict(x_test)\n",
    "y_pred"
   ]
  },
  {
   "cell_type": "code",
   "execution_count": 326,
   "id": "490a3c77",
   "metadata": {},
   "outputs": [
    {
     "data": {
      "text/plain": [
       "array([0, 0, 0, 0, 0, 0, 0, 0, 1, 0, 0, 0, 0, 0, 0, 0, 0, 0, 0, 0, 0, 0,\n",
       "       0, 0, 0, 0, 0, 0, 0, 0, 0, 0, 0, 0, 0, 0, 0, 0, 0, 0, 0, 0, 0, 0,\n",
       "       0, 0, 0, 0, 0, 0, 0, 0, 0, 0, 0, 0, 0, 0, 0, 0, 0, 0, 0, 0, 0, 0,\n",
       "       0, 1, 0, 0, 0, 0, 0, 0, 0, 0, 0, 0, 0, 0, 0, 0, 0, 0, 0, 0, 0, 0,\n",
       "       0, 0, 0, 0, 0, 0, 0, 0, 0, 0, 0, 0, 0, 0, 0, 0, 0, 0, 0, 0, 0, 0,\n",
       "       0, 1, 0, 0, 0, 0, 0, 0, 0, 0, 0, 0, 0, 0, 0, 0, 0, 0, 0, 0, 0, 0,\n",
       "       0, 0, 0, 0, 0, 0, 0, 0, 0, 0, 0, 0, 0, 0, 0, 0, 0, 0, 0, 0, 0, 0,\n",
       "       0, 0, 0, 0, 0, 0, 0, 0, 0, 0, 0, 0, 0, 0, 0, 0, 0, 0, 0, 0, 0, 0,\n",
       "       0, 0, 0, 0, 0, 1, 0, 0, 0, 0, 0, 0, 0, 0, 0, 0, 0, 0, 0, 0, 0, 0,\n",
       "       0, 0, 0, 0, 0, 0, 0, 0, 0, 0, 0, 0, 0, 0, 0, 0, 0, 0, 0, 0, 0, 0,\n",
       "       0, 0, 0, 0, 0, 0, 0, 0, 0, 0, 0, 0, 0, 0, 0, 0, 0, 0, 1, 0, 0, 0],\n",
       "      dtype=int64)"
      ]
     },
     "execution_count": 326,
     "metadata": {},
     "output_type": "execute_result"
    }
   ],
   "source": [
    "y_test"
   ]
  },
  {
   "cell_type": "code",
   "execution_count": 327,
   "id": "4d761da9",
   "metadata": {},
   "outputs": [],
   "source": [
    "x_train_sc=sc.transform(x_train)\n",
    "x_test_sc=sc.transform(x_test)"
   ]
  },
  {
   "cell_type": "code",
   "execution_count": 328,
   "id": "79acc04f",
   "metadata": {},
   "outputs": [
    {
     "data": {
      "text/plain": [
       "0.9917355371900827"
      ]
     },
     "execution_count": 328,
     "metadata": {},
     "output_type": "execute_result"
    }
   ],
   "source": [
    "Classifier.score(x_test,y_test)"
   ]
  },
  {
   "cell_type": "code",
   "execution_count": 329,
   "id": "c4db1a19",
   "metadata": {},
   "outputs": [
    {
     "name": "stdout",
     "output_type": "stream",
     "text": [
      "[1]\n"
     ]
    }
   ],
   "source": [
    "# prediction\n",
    "#features = [type, amount, oldbalanceOrg, newbalanceOrig]\n",
    "\n",
    "features = np.array([[1, 181.00, 181.0, 0.0]])\n",
    "print(Classifier.predict(features))"
   ]
  },
  {
   "cell_type": "markdown",
   "id": "aae6f1fe",
   "metadata": {},
   "source": [
    "# Now use the Confusion Matrix"
   ]
  },
  {
   "cell_type": "code",
   "execution_count": 330,
   "id": "edfe5e37",
   "metadata": {},
   "outputs": [],
   "source": [
    "from sklearn.metrics import confusion_matrix\n",
    "from sklearn.metrics import accuracy_score, precision_score, recall_score, f1_score"
   ]
  },
  {
   "cell_type": "code",
   "execution_count": 331,
   "id": "98fefe9a",
   "metadata": {},
   "outputs": [],
   "source": [
    "cm = confusion_matrix(y_test,y_pred)"
   ]
  },
  {
   "cell_type": "code",
   "execution_count": 367,
   "id": "00ad4a47",
   "metadata": {},
   "outputs": [
    {
     "data": {
      "image/png": "[encoded data removed]",
      "text/plain": [
       "<Figure size 640x480 with 2 Axes>"
      ]
     },
     "metadata": {},
     "output_type": "display_data"
    }
   ],
   "source": [
    "#Plot the confusion matrix.\n",
    "sns.heatmap(cm,\n",
    "            annot=True,\n",
    "            fmt='g',\n",
    "            linewidths=1,\n",
    "            linecolor='red',\n",
    "            )\n",
    "            \n",
    "plt.ylabel('Actual',fontsize=13)\n",
    "\n",
    "plt.xlabel('Prediction',fontsize=13)\n",
    "plt.title('Confusion Matrix',fontsize=17)\n",
    "plt.show()"
   ]
  },
  {
   "cell_type": "markdown",
   "id": "34455d1d",
   "metadata": {},
   "source": [
    "The confusion matrix has 4 different quadrants:\n",
    "    \n",
    "    1) True Positive(Top Left Quadrant)\n",
    "    2) False Positive(Top Right Quadrant)\n",
    "    3) False Negative(Bottom Left Quadrant)\n",
    "    4) True Negative(Bottom Right Quadrant)"
   ]
  },
  {
   "cell_type": "markdown",
   "id": "966923dd",
   "metadata": {},
   "source": [
    "True means that the values were accurately predicted, False means that there was an error or wrong prediction."
   ]
  },
  {
   "cell_type": "markdown",
   "id": "622a234f",
   "metadata": {},
   "source": [
    "# Accuracy, Precision, Recall, f1-score calculate below:"
   ]
  },
  {
   "cell_type": "markdown",
   "id": "20f4e1cc",
   "metadata": {},
   "source": [
    "# Accuracy:-"
   ]
  },
  {
   "cell_type": "markdown",
   "id": "779ee31a",
   "metadata": {},
   "source": [
    "    accuracy measure how often the model is correct.\n",
    "    \n",
    "    Formula:-  \n",
    "        Accuracy = (True Positive + True Negative)/Total Prediction"
   ]
  },
  {
   "cell_type": "markdown",
   "id": "acfb5710",
   "metadata": {},
   "source": [
    "# Precision:-"
   ]
  },
  {
   "cell_type": "markdown",
   "id": "64ec1d63",
   "metadata": {},
   "source": [
    "precision is a measure of how accurate a model’s positive predictions are.\n",
    "\n",
    "Formula:-\n",
    "\n",
    "        True Positive / (True Positive + False Positive)"
   ]
  },
  {
   "cell_type": "markdown",
   "id": "8482982f",
   "metadata": {},
   "source": [
    "# Recall:-"
   ]
  },
  {
   "cell_type": "markdown",
   "id": "0462987f",
   "metadata": {},
   "source": [
    "Recall measures the effectiveness of a classification model in identifying all relevant instances from a dataset.\n",
    "    (which are positives that have been incorrectly predicted as negative)\n",
    "\n",
    "Formula:-\n",
    "        \n",
    "        Recall = True Positive / (True Positive + False Negative)"
   ]
  },
  {
   "cell_type": "markdown",
   "id": "a5cb9834",
   "metadata": {},
   "source": [
    "# F1-Score:-"
   ]
  },
  {
   "cell_type": "markdown",
   "id": "107e6723",
   "metadata": {},
   "source": [
    "F1 score is a harmonic mean of precision and sensitivity.\n",
    "\n",
    "Formula:-\n",
    "        \n",
    "        2 * ((Precision * Sensitivity) / (Precision + Sensitivity))"
   ]
  },
  {
   "cell_type": "code",
   "execution_count": 333,
   "id": "c9237ef2",
   "metadata": {},
   "outputs": [
    {
     "name": "stdout",
     "output_type": "stream",
     "text": [
      "0.9917355371900827\n"
     ]
    }
   ],
   "source": [
    "\n",
    "accuracy = accuracy_score(y_test,y_pred)\n",
    "print(accuracy)"
   ]
  },
  {
   "cell_type": "code",
   "execution_count": 334,
   "id": "c3149d82",
   "metadata": {},
   "outputs": [
    {
     "name": "stdout",
     "output_type": "stream",
     "text": [
      "0.99581589958159\n"
     ]
    }
   ],
   "source": [
    "precision = precision_score(y_test,y_pred, average='macro')\n",
    "print(precision)"
   ]
  },
  {
   "cell_type": "code",
   "execution_count": 335,
   "id": "68ef50d1",
   "metadata": {},
   "outputs": [
    {
     "name": "stdout",
     "output_type": "stream",
     "text": [
      "0.8\n"
     ]
    }
   ],
   "source": [
    "recall = recall_score(y_test,y_pred, average='macro')\n",
    "print(recall)"
   ]
  },
  {
   "cell_type": "code",
   "execution_count": 336,
   "id": "778bc437",
   "metadata": {},
   "outputs": [
    {
     "name": "stdout",
     "output_type": "stream",
     "text": [
      "0.8728991596638654\n"
     ]
    }
   ],
   "source": [
    "F1_score = f1_score(y_test,y_pred, average='macro')\n",
    "print(F1_score)"
   ]
  },
  {
   "cell_type": "markdown",
   "id": "532ee4bb",
   "metadata": {},
   "source": [
    "# Now used the Decision Tree Classification"
   ]
  },
  {
   "cell_type": "code",
   "execution_count": 337,
   "id": "0a371acc",
   "metadata": {},
   "outputs": [],
   "source": [
    "from sklearn.tree import DecisionTreeClassifier"
   ]
  },
  {
   "cell_type": "code",
   "execution_count": 338,
   "id": "9cd225d0",
   "metadata": {},
   "outputs": [
    {
     "data": {
      "text/html": [
       "<style>#sk-container-id-21 {color: black;}#sk-container-id-21 pre{padding: 0;}#sk-container-id-21 div.sk-toggleable {background-color: white;}#sk-container-id-21 label.sk-toggleable__label {cursor: pointer;display: block;width: 100%;margin-bottom: 0;padding: 0.3em;box-sizing: border-box;text-align: center;}#sk-container-id-21 label.sk-toggleable__label-arrow:before {content: \"▸\";float: left;margin-right: 0.25em;color: #696969;}#sk-container-id-21 label.sk-toggleable__label-arrow:hover:before {color: black;}#sk-container-id-21 div.sk-estimator:hover label.sk-toggleable__label-arrow:before {color: black;}#sk-container-id-21 div.sk-toggleable__content {max-height: 0;max-width: 0;overflow: hidden;text-align: left;background-color: #f0f8ff;}#sk-container-id-21 div.sk-toggleable__content pre {margin: 0.2em;color: black;border-radius: 0.25em;background-color: #f0f8ff;}#sk-container-id-21 input.sk-toggleable__control:checked~div.sk-toggleable__content {max-height: 200px;max-width: 100%;overflow: auto;}#sk-container-id-21 input.sk-toggleable__control:checked~label.sk-toggleable__label-arrow:before {content: \"▾\";}#sk-container-id-21 div.sk-estimator input.sk-toggleable__control:checked~label.sk-toggleable__label {background-color: #d4ebff;}#sk-container-id-21 div.sk-label input.sk-toggleable__control:checked~label.sk-toggleable__label {background-color: #d4ebff;}#sk-container-id-21 input.sk-hidden--visually {border: 0;clip: rect(1px 1px 1px 1px);clip: rect(1px, 1px, 1px, 1px);height: 1px;margin: -1px;overflow: hidden;padding: 0;position: absolute;width: 1px;}#sk-container-id-21 div.sk-estimator {font-family: monospace;background-color: #f0f8ff;border: 1px dotted black;border-radius: 0.25em;box-sizing: border-box;margin-bottom: 0.5em;}#sk-container-id-21 div.sk-estimator:hover {background-color: #d4ebff;}#sk-container-id-21 div.sk-parallel-item::after {content: \"\";width: 100%;border-bottom: 1px solid gray;flex-grow: 1;}#sk-container-id-21 div.sk-label:hover label.sk-toggleable__label {background-color: #d4ebff;}#sk-container-id-21 div.sk-serial::before {content: \"\";position: absolute;border-left: 1px solid gray;box-sizing: border-box;top: 0;bottom: 0;left: 50%;z-index: 0;}#sk-container-id-21 div.sk-serial {display: flex;flex-direction: column;align-items: center;background-color: white;padding-right: 0.2em;padding-left: 0.2em;position: relative;}#sk-container-id-21 div.sk-item {position: relative;z-index: 1;}#sk-container-id-21 div.sk-parallel {display: flex;align-items: stretch;justify-content: center;background-color: white;position: relative;}#sk-container-id-21 div.sk-item::before, #sk-container-id-21 div.sk-parallel-item::before {content: \"\";position: absolute;border-left: 1px solid gray;box-sizing: border-box;top: 0;bottom: 0;left: 50%;z-index: -1;}#sk-container-id-21 div.sk-parallel-item {display: flex;flex-direction: column;z-index: 1;position: relative;background-color: white;}#sk-container-id-21 div.sk-parallel-item:first-child::after {align-self: flex-end;width: 50%;}#sk-container-id-21 div.sk-parallel-item:last-child::after {align-self: flex-start;width: 50%;}#sk-container-id-21 div.sk-parallel-item:only-child::after {width: 0;}#sk-container-id-21 div.sk-dashed-wrapped {border: 1px dashed gray;margin: 0 0.4em 0.5em 0.4em;box-sizing: border-box;padding-bottom: 0.4em;background-color: white;}#sk-container-id-21 div.sk-label label {font-family: monospace;font-weight: bold;display: inline-block;line-height: 1.2em;}#sk-container-id-21 div.sk-label-container {text-align: center;}#sk-container-id-21 div.sk-container {/* jupyter's `normalize.less` sets `[hidden] { display: none; }` but bootstrap.min.css set `[hidden] { display: none !important; }` so we also need the `!important` here to be able to override the default hidden behavior on the sphinx rendered scikit-learn.org. See: https://github.com/scikit-learn/scikit-learn/issues/21755 */display: inline-block !important;position: relative;}#sk-container-id-21 div.sk-text-repr-fallback {display: none;}</style><div id=\"sk-container-id-21\" class=\"sk-top-container\"><div class=\"sk-text-repr-fallback\"><pre>DecisionTreeClassifier()</pre><b>In a Jupyter environment, please rerun this cell to show the HTML representation or trust the notebook. <br />On GitHub, the HTML representation is unable to render, please try loading this page with nbviewer.org.</b></div><div class=\"sk-container\" hidden><div class=\"sk-item\"><div class=\"sk-estimator sk-toggleable\"><input class=\"sk-toggleable__control sk-hidden--visually\" id=\"sk-estimator-id-21\" type=\"checkbox\" checked><label for=\"sk-estimator-id-21\" class=\"sk-toggleable__label sk-toggleable__label-arrow\">DecisionTreeClassifier</label><div class=\"sk-toggleable__content\"><pre>DecisionTreeClassifier()</pre></div></div></div></div></div>"
      ],
      "text/plain": [
       "DecisionTreeClassifier()"
      ]
     },
     "execution_count": 338,
     "metadata": {},
     "output_type": "execute_result"
    }
   ],
   "source": [
    "Classifier = DecisionTreeClassifier(criterion='gini', splitter='best', max_depth=None, min_samples_split=2, min_samples_leaf=1, min_weight_fraction_leaf=0.0)\n",
    "Classifier.fit(x_train,y_train)\n",
    "Classifier.fit(x_train,y_train)"
   ]
  },
  {
   "cell_type": "code",
   "execution_count": 339,
   "id": "8076ac3f",
   "metadata": {},
   "outputs": [
    {
     "data": {
      "text/plain": [
       "array([[0.0, 6911.99, 6307878.9, 6300966.92],\n",
       "       [0.0, 2771.16, 60721.0, 57949.84],\n",
       "       [0.0, 3823.08, 10382.0, 6558.92],\n",
       "       [0.0, 17373.04, 19873.62, 2500.58],\n",
       "       [0.0, 9758.09, 21217.0, 11458.91],\n",
       "       [0.0, 1175.59, 20509.0, 19333.41],\n",
       "       [0.0, 1873.13, 139873.0, 137999.87],\n",
       "       [0.0, 593.4, 0.0, 0.0],\n",
       "       [0.0, 416001.33, 0.0, 0.0],\n",
       "       [0.0, 58.21, 14506.0, 14447.79],\n",
       "       [0.0, 230021.01, 1861208.43, 2091229.45],\n",
       "       [0.0, 101940.14, 0.0, 0.0],\n",
       "       [0.0, 17231.46, 0.0, 0.0],\n",
       "       [0.0, 2998.2, 15593.45, 12595.25],\n",
       "       [0.0, 2278.19, 290.0, 0.0],\n",
       "       [0.0, 7659.86, 544.0, 0.0],\n",
       "       [0.0, 5937.72, 21779.0, 15841.28],\n",
       "       [0.0, 3896.42, 11558.39, 7661.97],\n",
       "       [0.0, 116977.58, 0.0, 0.0],\n",
       "       [0.0, 9805.46, 0.0, 0.0],\n",
       "       [0.0, 128278.74, 0.0, 0.0],\n",
       "       [0.0, 132953.45, 7964926.82, 8097880.27],\n",
       "       [0.0, 1180.55, 1345065.25, 1343884.7],\n",
       "       [0.0, 26923.42, 11049.67, 0.0],\n",
       "       [0.0, 4306.89, 256849.49, 252542.6],\n",
       "       [1.0, 8679.29, 150592.0, 141912.71],\n",
       "       [0.0, 1122.14, 30206.0, 29083.86],\n",
       "       [0.0, 233.76, 54214.0, 53980.24],\n",
       "       [0.0, 250968.18, 0.0, 0.0],\n",
       "       [0.0, 15054.61, 295596.43, 310651.04],\n",
       "       [0.0, 252908.87, 0.0, 0.0],\n",
       "       [0.0, 65521.42, 0.0, 0.0],\n",
       "       [0.0, 9753.55, 60829.0, 51075.45],\n",
       "       [0.0, 88987.11, 2816.58, 0.0],\n",
       "       [0.0, 9920.52, 0.0, 0.0],\n",
       "       [0.0, 4270.02, 9516.0, 5245.98],\n",
       "       [0.0, 142577.44, 1601450.63, 1744028.07],\n",
       "       [0.0, 799483.57, 0.0, 0.0],\n",
       "       [0.0, 80311.89, 0.0, 0.0],\n",
       "       [0.0, 84980.31, 2641780.43, 2726760.74],\n",
       "       [0.0, 472385.25, 26210.19, 0.0],\n",
       "       [0.0, 9577.45, 519812.39, 529389.85],\n",
       "       [1.0, 13758.63, 29858.0, 16099.37],\n",
       "       [0.0, 3464.41, 5548.0, 2083.59],\n",
       "       [0.0, 7506.65, 13860.27, 6353.62],\n",
       "       [0.0, 89327.65, 943628.44, 1032956.09],\n",
       "       [0.0, 6287.28, 4817829.42, 4824116.71],\n",
       "       [0.0, 2245.62, 30910.0, 28664.38],\n",
       "       [0.0, 8603.42, 253.0, 0.0],\n",
       "       [0.0, 177652.91, 23720.0, 0.0],\n",
       "       [0.0, 365510.05, 0.0, 0.0],\n",
       "       [0.0, 180368.84, 0.0, 0.0],\n",
       "       [0.0, 4843.93, 51718.0, 46874.07],\n",
       "       [0.0, 128487.35, 0.0, 0.0],\n",
       "       [1.0, 4497.87, 107388.0, 102890.13],\n",
       "       [0.0, 3060.54, 118643.46, 115582.92],\n",
       "       [0.0, 365.0, 319.0, 0.0],\n",
       "       [0.0, 174068.82, 65734.09, 0.0],\n",
       "       [0.0, 11438.39, 0.0, 0.0],\n",
       "       [0.0, 1193410.46, 0.0, 0.0],\n",
       "       [0.0, 2545478.01, 0.0, 0.0],\n",
       "       [0.0, 8354.27, 5611.0, 0.0],\n",
       "       [0.0, 160347.32, 7965270.68, 8125617.99],\n",
       "       [0.0, 4059.25, 4186.0, 126.75],\n",
       "       [0.0, 232953.64, 407590.65, 640544.28],\n",
       "       [0.0, 155122.86, 0.0, 0.0],\n",
       "       [0.0, 193605.38, 0.0, 0.0],\n",
       "       [0.0, 20128.0, 20128.0, 0.0],\n",
       "       [0.0, 132574.0, 0.0, 0.0],\n",
       "       [1.0, 4510.22, 10256.0, 5745.78],\n",
       "       [0.0, 1271.77, 6973823.5, 6975095.27],\n",
       "       [0.0, 4098.78, 503264.0, 499165.22],\n",
       "       [0.0, 5363.35, 81503.83, 76140.48],\n",
       "       [0.0, 8494.71, 11129.0, 2634.29],\n",
       "       [0.0, 5809.78, 99884.0, 94074.22],\n",
       "       [0.0, 117023.79, 0.0, 0.0],\n",
       "       [0.0, 173948.89, 7670859.72, 7844808.61],\n",
       "       [0.0, 330757.04, 103657.0, 0.0],\n",
       "       [0.0, 108600.78, 0.0, 0.0],\n",
       "       [0.0, 5842.61, 40.0, 0.0],\n",
       "       [0.0, 63807.17, 0.0, 0.0],\n",
       "       [0.0, 197031.04, 501828.4, 698859.44],\n",
       "       [0.0, 57794.61, 0.0, 0.0],\n",
       "       [1.0, 1150.14, 21634.0, 20483.86],\n",
       "       [0.0, 8550.9, 40060.0, 31509.1],\n",
       "       [0.0, 2528.1, 5037.0, 2508.9],\n",
       "       [0.0, 36437.06, 0.0, 0.0],\n",
       "       [0.0, 1553.21, 31516.0, 29962.79],\n",
       "       [0.0, 1445.06, 10892.0, 9446.94],\n",
       "       [0.0, 312108.51, 0.0, 0.0],\n",
       "       [0.0, 6432.26, 0.0, 0.0],\n",
       "       [0.0, 9536.54, 0.0, 0.0],\n",
       "       [0.0, 118235.16, 0.0, 0.0],\n",
       "       [0.0, 3666.42, 48117.0, 44450.58],\n",
       "       [0.0, 373185.07, 0.0, 0.0],\n",
       "       [0.0, 708.59, 14857.72, 14149.13],\n",
       "       [0.0, 13259.12, 581420.54, 568161.42],\n",
       "       [0.0, 5154.97, 9476.0, 4321.03],\n",
       "       [0.0, 314134.01, 2245807.73, 2559941.74],\n",
       "       [0.0, 83859.59, 0.0, 0.0],\n",
       "       [0.0, 8074.16, 21495.0, 13420.84],\n",
       "       [0.0, 6536.86, 17319.0, 10782.14],\n",
       "       [0.0, 764772.98, 3946209.08, 4710982.07],\n",
       "       [0.0, 11348.71, 734899.0, 723550.29],\n",
       "       [1.0, 12872.92, 11197.0, 0.0],\n",
       "       [0.0, 1718.29, 117811.0, 116092.71],\n",
       "       [0.0, 6854.06, 19853.0, 12998.94],\n",
       "       [0.0, 1328.59, 14469.0, 13140.41],\n",
       "       [0.0, 55827.09, 9907.0, 65734.09],\n",
       "       [0.0, 671.64, 15123.0, 14451.36],\n",
       "       [0.0, 12728.46, 83636.0, 70907.54],\n",
       "       [0.0, 311685.89, 10835.0, 0.0],\n",
       "       [0.0, 5946.79, 7541.59, 1594.8],\n",
       "       [0.0, 583848.46, 0.0, 0.0],\n",
       "       [0.0, 211075.91, 0.0, 0.0],\n",
       "       [0.0, 4573.12, 13490.65, 8917.54],\n",
       "       [0.0, 427175.03, 20465.43, 0.0],\n",
       "       [0.0, 27070.11, 346803.59, 373873.7],\n",
       "       [0.0, 7417.09, 843.0, 0.0],\n",
       "       [0.0, 116206.75, 283572.48, 167365.73],\n",
       "       [1.0, 5430.64, 5656.75, 226.11],\n",
       "       [0.0, 4419.04, 52951.0, 48531.96],\n",
       "       [0.0, 12162.01, 38372.2, 26210.19],\n",
       "       [0.0, 517915.91, 0.0, 0.0],\n",
       "       [0.0, 24105.5, 144.0, 24249.5],\n",
       "       [1.0, 996.0, 46132.0, 45136.0],\n",
       "       [0.0, 3876.41, 67852.0, 63975.59],\n",
       "       [0.0, 56145.85, 21528.0, 0.0],\n",
       "       [0.0, 193161.04, 6372625.28, 6565786.32],\n",
       "       [0.0, 96178.8, 0.0, 0.0],\n",
       "       [1.0, 9644.94, 4465.0, 0.0],\n",
       "       [0.0, 179253.24, 0.0, 0.0],\n",
       "       [0.0, 26051.33, 0.0, 0.0],\n",
       "       [0.0, 2056.59, 0.0, 0.0],\n",
       "       [0.0, 8553.73, 69404.0, 60850.27],\n",
       "       [0.0, 879.42, 115582.92, 114703.5],\n",
       "       [0.0, 3295.19, 233633.0, 230337.81],\n",
       "       [0.0, 8531.42, 18961.11, 10429.69],\n",
       "       [0.0, 584.52, 15479.0, 14894.48],\n",
       "       [0.0, 5843.75, 0.0, 0.0],\n",
       "       [0.0, 1157.86, 21156.0, 19998.14],\n",
       "       [0.0, 82685.93, 0.0, 0.0],\n",
       "       [0.0, 338767.1, 0.0, 0.0],\n",
       "       [0.0, 32325.24, 4473650.15, 4505975.39],\n",
       "       [1.0, 3058.8, 18138.0, 15079.2],\n",
       "       [0.0, 2270.41, 60640.12, 58369.71],\n",
       "       [0.0, 16631.14, 0.0, 0.0],\n",
       "       [0.0, 6443.58, 546.0, 0.0],\n",
       "       [0.0, 9778.81, 18824.0, 9045.19],\n",
       "       [0.0, 197186.52, 101380.99, 0.0],\n",
       "       [0.0, 5446.88, 666.0, 0.0],\n",
       "       [0.0, 6061.13, 443.0, 0.0],\n",
       "       [0.0, 5170.23, 184781.0, 179610.77],\n",
       "       [0.0, 34390.85, 0.0, 0.0],\n",
       "       [0.0, 360.13, 38939.0, 38578.87],\n",
       "       [0.0, 270824.42, 9716462.14, 9987286.56],\n",
       "       [0.0, 789419.02, 0.0, 0.0],\n",
       "       [0.0, 176334.26, 45136.0, 0.0],\n",
       "       [0.0, 3673.1, 30507.0, 26833.9],\n",
       "       [0.0, 7817.71, 53860.0, 46042.29],\n",
       "       [0.0, 5110.1, 87259.46, 82149.35],\n",
       "       [0.0, 8094.53, 50950.0, 42855.47],\n",
       "       [0.0, 182861.45, 3218806.87, 3401668.32],\n",
       "       [0.0, 134426.08, 6300464.17, 6434890.26],\n",
       "       [0.0, 248979.22, 0.0, 0.0],\n",
       "       [0.0, 4099.91, 21262.0, 17162.09],\n",
       "       [1.0, 300.41, 39167.0, 38866.59],\n",
       "       [0.0, 71532.24, 2101.19, 0.0],\n",
       "       [0.0, 131033.44, 0.0, 0.0],\n",
       "       [0.0, 10777.89, 105804.0, 95026.11],\n",
       "       [0.0, 3101.33, 32843.16, 29741.84],\n",
       "       [0.0, 1123206.66, 0.0, 0.0],\n",
       "       [0.0, 9738.95, 289748.0, 280009.05],\n",
       "       [0.0, 4355.66, 120.0, 0.0],\n",
       "       [0.0, 2867.14, 943.0, 0.0],\n",
       "       [0.0, 213490.87, 75550.57, 0.0],\n",
       "       [0.0, 61159.51, 0.0, 0.0],\n",
       "       [0.0, 348186.2, 0.0, 0.0],\n",
       "       [0.0, 8809.04, 0.0, 0.0],\n",
       "       [0.0, 5775.15, 132329.0, 126553.85],\n",
       "       [0.0, 4227.19, 36054.0, 31826.81],\n",
       "       [0.0, 1277212.77, 1277212.77, 0.0],\n",
       "       [0.0, 881.26, 5386.0, 4504.74],\n",
       "       [0.0, 9067.51, 1469995.06, 1479062.57],\n",
       "       [0.0, 161632.16, 310651.04, 472283.2],\n",
       "       [0.0, 1440296.14, 0.0, 0.0],\n",
       "       [0.0, 480222.51, 11110.0, 0.0],\n",
       "       [0.0, 704.74, 0.0, 0.0],\n",
       "       [0.0, 4932.54, 136555.0, 131622.46],\n",
       "       [0.0, 1582.67, 14528.0, 12945.33],\n",
       "       [0.0, 178370.36, 3340793.04, 3519163.4],\n",
       "       [0.0, 38071.17, 3633549.82, 3671620.98],\n",
       "       [0.0, 1213.64, 86078.0, 84864.36],\n",
       "       [0.0, 372.34, 65254.0, 64881.66],\n",
       "       [0.0, 5403.87, 14404.0, 9000.13],\n",
       "       [0.0, 3551.48, 1015017.79, 1011466.31],\n",
       "       [0.0, 3014.54, 15485.0, 12470.46],\n",
       "       [0.0, 143148.97, 4502611.13, 4645760.1],\n",
       "       [0.0, 10266.7, 3799476.47, 3809743.17],\n",
       "       [0.0, 190445.51, 0.0, 0.0],\n",
       "       [0.0, 1267.97, 6309146.87, 6307878.9],\n",
       "       [0.0, 198847.32, 6157562.25, 6356409.58],\n",
       "       [0.0, 25554.79, 2347.47, 0.0],\n",
       "       [0.0, 5213.25, 36380.0, 31166.75],\n",
       "       [0.0, 4391.44, 228.0, 0.0],\n",
       "       [0.0, 6284.18, 7858787.73, 7865071.9],\n",
       "       [0.0, 62073.54, 0.0, 0.0],\n",
       "       [0.0, 158995.29, 2766347.65, 2925342.94],\n",
       "       [0.0, 94253.33, 25203.05, 0.0],\n",
       "       [0.0, 2392.53, 104141.0, 101748.47],\n",
       "       [0.0, 507.12, 87005.0, 86497.88],\n",
       "       [0.0, 221654.28, 22377.0, 0.0],\n",
       "       [0.0, 13288.84, 21745.0, 8456.16],\n",
       "       [0.0, 4910.14, 41551.0, 36640.86],\n",
       "       [0.0, 4252.82, 5545.0, 1292.18],\n",
       "       [0.0, 10040.52, 61553.96, 51513.44],\n",
       "       [0.0, 148834.28, 4778217.62, 4927051.9],\n",
       "       [0.0, 2057.71, 25132.0, 23074.29],\n",
       "       [0.0, 262392.36, 0.0, 0.0],\n",
       "       [0.0, 4233.45, 0.0, 0.0],\n",
       "       [1.0, 3111.86, 64665.82, 61553.96],\n",
       "       [0.0, 5443.26, 236997.0, 231553.74],\n",
       "       [0.0, 1373.43, 13854.0, 12480.57],\n",
       "       [0.0, 162665.98, 1438784.65, 1601450.63],\n",
       "       [0.0, 15.06, 204682.0, 204666.94],\n",
       "       [0.0, 2061082.82, 0.0, 0.0],\n",
       "       [0.0, 71275.47, 8499043.13, 8570318.6],\n",
       "       [0.0, 82691.56, 0.0, 0.0],\n",
       "       [0.0, 18851.44, 3815815.51, 3834666.95],\n",
       "       [1.0, 5363.0, 21260.0, 15897.0],\n",
       "       [0.0, 142282.63, 0.0, 0.0],\n",
       "       [1.0, 8901.32, 8687.52, 0.0],\n",
       "       [0.0, 345698.98, 40419.0, 0.0],\n",
       "       [0.0, 10497.33, 2684.69, 0.0],\n",
       "       [0.0, 141131.23, 2277937.72, 2419068.96],\n",
       "       [0.0, 6165.58, 20925.0, 14759.42],\n",
       "       [0.0, 1697.56, 610733.41, 609035.85],\n",
       "       [0.0, 317393.38, 8906617.38, 9224010.75],\n",
       "       [0.0, 35063.63, 35063.63, 0.0],\n",
       "       [0.0, 112401.53, 0.0, 0.0],\n",
       "       [0.0, 2223.41, 17.0, 0.0],\n",
       "       [0.0, 39485.21, 0.0, 0.0]], dtype=object)"
      ]
     },
     "execution_count": 339,
     "metadata": {},
     "output_type": "execute_result"
    }
   ],
   "source": [
    "x_test"
   ]
  },
  {
   "cell_type": "code",
   "execution_count": 340,
   "id": "5359dd71",
   "metadata": {},
   "outputs": [
    {
     "data": {
      "text/plain": [
       "0.9752066115702479"
      ]
     },
     "execution_count": 340,
     "metadata": {},
     "output_type": "execute_result"
    }
   ],
   "source": [
    "Classifier.score(x_test,y_test)"
   ]
  },
  {
   "cell_type": "code",
   "execution_count": null,
   "id": "bda15cc6",
   "metadata": {},
   "outputs": [],
   "source": []
  },
  {
   "cell_type": "code",
   "execution_count": 341,
   "id": "1db095f3",
   "metadata": {},
   "outputs": [
    {
     "data": {
      "text/plain": [
       "array([0, 0, 0, 0, 0, 0, 0, 0, 0, 0, 0, 0, 0, 0, 0, 0, 0, 0, 0, 0, 0, 0,\n",
       "       0, 0, 0, 0, 0, 0, 0, 0, 0, 0, 0, 1, 0, 0, 0, 0, 0, 0, 0, 0, 0, 0,\n",
       "       0, 0, 0, 0, 0, 0, 0, 0, 0, 0, 0, 0, 0, 0, 0, 0, 0, 0, 0, 0, 0, 0,\n",
       "       0, 1, 0, 0, 0, 0, 0, 0, 0, 0, 0, 0, 0, 0, 0, 0, 0, 0, 0, 0, 0, 0,\n",
       "       0, 0, 0, 0, 0, 0, 0, 0, 0, 0, 0, 0, 0, 0, 0, 0, 0, 0, 0, 0, 0, 0,\n",
       "       0, 0, 0, 0, 0, 0, 0, 0, 0, 0, 0, 0, 0, 0, 0, 0, 0, 1, 0, 0, 0, 0,\n",
       "       0, 0, 0, 0, 0, 0, 0, 0, 0, 0, 0, 0, 0, 0, 0, 0, 0, 0, 0, 0, 0, 0,\n",
       "       0, 0, 0, 0, 0, 0, 0, 0, 0, 0, 0, 0, 0, 0, 0, 0, 0, 0, 0, 0, 0, 0,\n",
       "       0, 0, 0, 0, 0, 1, 0, 0, 0, 0, 0, 0, 0, 0, 0, 0, 0, 0, 0, 0, 0, 0,\n",
       "       0, 0, 0, 0, 0, 0, 0, 0, 0, 0, 1, 0, 0, 0, 0, 0, 0, 0, 0, 0, 0, 0,\n",
       "       0, 0, 0, 0, 0, 0, 0, 0, 0, 1, 0, 0, 0, 0, 0, 0, 0, 0, 1, 0, 0, 0],\n",
       "      dtype=int64)"
      ]
     },
     "execution_count": 341,
     "metadata": {},
     "output_type": "execute_result"
    }
   ],
   "source": [
    "y_pred=Classifier.predict(x_test)\n",
    "y_pred"
   ]
  },
  {
   "cell_type": "code",
   "execution_count": null,
   "id": "dad36783",
   "metadata": {},
   "outputs": [],
   "source": []
  },
  {
   "cell_type": "markdown",
   "id": "f3c091b6",
   "metadata": {},
   "source": [
    "# Now use the Support Vector Classification"
   ]
  },
  {
   "cell_type": "code",
   "execution_count": 348,
   "id": "71732a3e",
   "metadata": {},
   "outputs": [],
   "source": [
    "from sklearn.svm import SVC"
   ]
  },
  {
   "cell_type": "code",
   "execution_count": 349,
   "id": "ec8c9391",
   "metadata": {},
   "outputs": [
    {
     "data": {
      "text/html": [
       "<style>#sk-container-id-22 {color: black;}#sk-container-id-22 pre{padding: 0;}#sk-container-id-22 div.sk-toggleable {background-color: white;}#sk-container-id-22 label.sk-toggleable__label {cursor: pointer;display: block;width: 100%;margin-bottom: 0;padding: 0.3em;box-sizing: border-box;text-align: center;}#sk-container-id-22 label.sk-toggleable__label-arrow:before {content: \"▸\";float: left;margin-right: 0.25em;color: #696969;}#sk-container-id-22 label.sk-toggleable__label-arrow:hover:before {color: black;}#sk-container-id-22 div.sk-estimator:hover label.sk-toggleable__label-arrow:before {color: black;}#sk-container-id-22 div.sk-toggleable__content {max-height: 0;max-width: 0;overflow: hidden;text-align: left;background-color: #f0f8ff;}#sk-container-id-22 div.sk-toggleable__content pre {margin: 0.2em;color: black;border-radius: 0.25em;background-color: #f0f8ff;}#sk-container-id-22 input.sk-toggleable__control:checked~div.sk-toggleable__content {max-height: 200px;max-width: 100%;overflow: auto;}#sk-container-id-22 input.sk-toggleable__control:checked~label.sk-toggleable__label-arrow:before {content: \"▾\";}#sk-container-id-22 div.sk-estimator input.sk-toggleable__control:checked~label.sk-toggleable__label {background-color: #d4ebff;}#sk-container-id-22 div.sk-label input.sk-toggleable__control:checked~label.sk-toggleable__label {background-color: #d4ebff;}#sk-container-id-22 input.sk-hidden--visually {border: 0;clip: rect(1px 1px 1px 1px);clip: rect(1px, 1px, 1px, 1px);height: 1px;margin: -1px;overflow: hidden;padding: 0;position: absolute;width: 1px;}#sk-container-id-22 div.sk-estimator {font-family: monospace;background-color: #f0f8ff;border: 1px dotted black;border-radius: 0.25em;box-sizing: border-box;margin-bottom: 0.5em;}#sk-container-id-22 div.sk-estimator:hover {background-color: #d4ebff;}#sk-container-id-22 div.sk-parallel-item::after {content: \"\";width: 100%;border-bottom: 1px solid gray;flex-grow: 1;}#sk-container-id-22 div.sk-label:hover label.sk-toggleable__label {background-color: #d4ebff;}#sk-container-id-22 div.sk-serial::before {content: \"\";position: absolute;border-left: 1px solid gray;box-sizing: border-box;top: 0;bottom: 0;left: 50%;z-index: 0;}#sk-container-id-22 div.sk-serial {display: flex;flex-direction: column;align-items: center;background-color: white;padding-right: 0.2em;padding-left: 0.2em;position: relative;}#sk-container-id-22 div.sk-item {position: relative;z-index: 1;}#sk-container-id-22 div.sk-parallel {display: flex;align-items: stretch;justify-content: center;background-color: white;position: relative;}#sk-container-id-22 div.sk-item::before, #sk-container-id-22 div.sk-parallel-item::before {content: \"\";position: absolute;border-left: 1px solid gray;box-sizing: border-box;top: 0;bottom: 0;left: 50%;z-index: -1;}#sk-container-id-22 div.sk-parallel-item {display: flex;flex-direction: column;z-index: 1;position: relative;background-color: white;}#sk-container-id-22 div.sk-parallel-item:first-child::after {align-self: flex-end;width: 50%;}#sk-container-id-22 div.sk-parallel-item:last-child::after {align-self: flex-start;width: 50%;}#sk-container-id-22 div.sk-parallel-item:only-child::after {width: 0;}#sk-container-id-22 div.sk-dashed-wrapped {border: 1px dashed gray;margin: 0 0.4em 0.5em 0.4em;box-sizing: border-box;padding-bottom: 0.4em;background-color: white;}#sk-container-id-22 div.sk-label label {font-family: monospace;font-weight: bold;display: inline-block;line-height: 1.2em;}#sk-container-id-22 div.sk-label-container {text-align: center;}#sk-container-id-22 div.sk-container {/* jupyter's `normalize.less` sets `[hidden] { display: none; }` but bootstrap.min.css set `[hidden] { display: none !important; }` so we also need the `!important` here to be able to override the default hidden behavior on the sphinx rendered scikit-learn.org. See: https://github.com/scikit-learn/scikit-learn/issues/21755 */display: inline-block !important;position: relative;}#sk-container-id-22 div.sk-text-repr-fallback {display: none;}</style><div id=\"sk-container-id-22\" class=\"sk-top-container\"><div class=\"sk-text-repr-fallback\"><pre>SVC()</pre><b>In a Jupyter environment, please rerun this cell to show the HTML representation or trust the notebook. <br />On GitHub, the HTML representation is unable to render, please try loading this page with nbviewer.org.</b></div><div class=\"sk-container\" hidden><div class=\"sk-item\"><div class=\"sk-estimator sk-toggleable\"><input class=\"sk-toggleable__control sk-hidden--visually\" id=\"sk-estimator-id-22\" type=\"checkbox\" checked><label for=\"sk-estimator-id-22\" class=\"sk-toggleable__label sk-toggleable__label-arrow\">SVC</label><div class=\"sk-toggleable__content\"><pre>SVC()</pre></div></div></div></div></div>"
      ],
      "text/plain": [
       "SVC()"
      ]
     },
     "execution_count": 349,
     "metadata": {},
     "output_type": "execute_result"
    }
   ],
   "source": [
    "classification_rbf =SVC(kernel='rbf')\n",
    "classification_rbf.fit(x_train, y_train)"
   ]
  },
  {
   "cell_type": "code",
   "execution_count": 350,
   "id": "da22375b",
   "metadata": {},
   "outputs": [
    {
     "data": {
      "text/plain": [
       "0.9793388429752066"
      ]
     },
     "execution_count": 350,
     "metadata": {},
     "output_type": "execute_result"
    }
   ],
   "source": [
    "classification_rbf.score(x_test,y_test)"
   ]
  },
  {
   "cell_type": "code",
   "execution_count": 351,
   "id": "f10455a9",
   "metadata": {},
   "outputs": [],
   "source": [
    "x_train_sc=sc.transform(x_train)\n",
    "x_test_sc=sc.transform(x_test)"
   ]
  },
  {
   "cell_type": "code",
   "execution_count": 352,
   "id": "36a274c6",
   "metadata": {},
   "outputs": [
    {
     "data": {
      "text/plain": [
       "0.9793388429752066"
      ]
     },
     "execution_count": 352,
     "metadata": {},
     "output_type": "execute_result"
    }
   ],
   "source": [
    "classification_rbf_2=SVC(kernel='rbf')\n",
    "classification_rbf_2.fit(x_train_sc,y_train)\n",
    "classification_rbf_2.score(x_test_sc,y_test)"
   ]
  },
  {
   "cell_type": "markdown",
   "id": "0aac235a",
   "metadata": {},
   "source": [
    "# Tune Parameter"
   ]
  },
  {
   "cell_type": "markdown",
   "id": "283c2092",
   "metadata": {},
   "source": [
    "# Regularization (C)"
   ]
  },
  {
   "cell_type": "code",
   "execution_count": 353,
   "id": "e75aedd8",
   "metadata": {},
   "outputs": [
    {
     "data": {
      "text/plain": [
       "0.9793388429752066"
      ]
     },
     "execution_count": 353,
     "metadata": {},
     "output_type": "execute_result"
    }
   ],
   "source": [
    "model_c=SVC(C=5)\n",
    "model_c.fit(x_train,y_train)\n",
    "model_c.score(x_test,y_test)"
   ]
  },
  {
   "cell_type": "code",
   "execution_count": 354,
   "id": "75d773a5",
   "metadata": {},
   "outputs": [
    {
     "data": {
      "text/plain": [
       "0.9834710743801653"
      ]
     },
     "execution_count": 354,
     "metadata": {},
     "output_type": "execute_result"
    }
   ],
   "source": [
    "model_c=SVC(C=10)\n",
    "model_c.fit(x_train,y_train)\n",
    "model_c.score(x_test,y_test)"
   ]
  },
  {
   "cell_type": "markdown",
   "id": "d186dbba",
   "metadata": {},
   "source": [
    "# Gamma"
   ]
  },
  {
   "cell_type": "code",
   "execution_count": 355,
   "id": "33c596d2",
   "metadata": {},
   "outputs": [
    {
     "data": {
      "text/plain": [
       "0.9917355371900827"
      ]
     },
     "execution_count": 355,
     "metadata": {},
     "output_type": "execute_result"
    }
   ],
   "source": [
    "model_g=SVC(gamma=5)\n",
    "model_g.fit(x_train,y_train)\n",
    "model_g.score(x_test,y_test)"
   ]
  },
  {
   "cell_type": "markdown",
   "id": "7459c14b",
   "metadata": {},
   "source": [
    "# SVC with kernal polynomial"
   ]
  },
  {
   "cell_type": "code",
   "execution_count": 356,
   "id": "682b1e30",
   "metadata": {},
   "outputs": [
    {
     "data": {
      "text/plain": [
       "0.9793388429752066"
      ]
     },
     "execution_count": 356,
     "metadata": {},
     "output_type": "execute_result"
    }
   ],
   "source": [
    "classification_poly=SVC(kernel='poly',degree=2)\n",
    "classification_poly.fit(x_train_sc,y_train)\n",
    "classification_poly.score(x_test_sc,y_test)"
   ]
  },
  {
   "cell_type": "markdown",
   "id": "9d18d4bd",
   "metadata": {},
   "source": [
    "# SVC with kernal linear"
   ]
  },
  {
   "cell_type": "code",
   "execution_count": 357,
   "id": "816a86ef",
   "metadata": {},
   "outputs": [
    {
     "data": {
      "text/plain": [
       "0.9793388429752066"
      ]
     },
     "execution_count": 357,
     "metadata": {},
     "output_type": "execute_result"
    }
   ],
   "source": [
    "classification_linear=SVC(kernel='linear')\n",
    "classification_linear.fit(x_train_sc,y_train)\n",
    "classification_linear.score(x_test_sc,y_test)"
   ]
  },
  {
   "cell_type": "markdown",
   "id": "253d39d2",
   "metadata": {},
   "source": [
    "# K-Fold"
   ]
  },
  {
   "cell_type": "code",
   "execution_count": 358,
   "id": "05a34a6e",
   "metadata": {},
   "outputs": [],
   "source": [
    "from sklearn.neighbors import KNeighborsClassifier"
   ]
  },
  {
   "cell_type": "code",
   "execution_count": 359,
   "id": "06a582c9",
   "metadata": {},
   "outputs": [
    {
     "data": {
      "text/html": [
       "<style>#sk-container-id-23 {color: black;}#sk-container-id-23 pre{padding: 0;}#sk-container-id-23 div.sk-toggleable {background-color: white;}#sk-container-id-23 label.sk-toggleable__label {cursor: pointer;display: block;width: 100%;margin-bottom: 0;padding: 0.3em;box-sizing: border-box;text-align: center;}#sk-container-id-23 label.sk-toggleable__label-arrow:before {content: \"▸\";float: left;margin-right: 0.25em;color: #696969;}#sk-container-id-23 label.sk-toggleable__label-arrow:hover:before {color: black;}#sk-container-id-23 div.sk-estimator:hover label.sk-toggleable__label-arrow:before {color: black;}#sk-container-id-23 div.sk-toggleable__content {max-height: 0;max-width: 0;overflow: hidden;text-align: left;background-color: #f0f8ff;}#sk-container-id-23 div.sk-toggleable__content pre {margin: 0.2em;color: black;border-radius: 0.25em;background-color: #f0f8ff;}#sk-container-id-23 input.sk-toggleable__control:checked~div.sk-toggleable__content {max-height: 200px;max-width: 100%;overflow: auto;}#sk-container-id-23 input.sk-toggleable__control:checked~label.sk-toggleable__label-arrow:before {content: \"▾\";}#sk-container-id-23 div.sk-estimator input.sk-toggleable__control:checked~label.sk-toggleable__label {background-color: #d4ebff;}#sk-container-id-23 div.sk-label input.sk-toggleable__control:checked~label.sk-toggleable__label {background-color: #d4ebff;}#sk-container-id-23 input.sk-hidden--visually {border: 0;clip: rect(1px 1px 1px 1px);clip: rect(1px, 1px, 1px, 1px);height: 1px;margin: -1px;overflow: hidden;padding: 0;position: absolute;width: 1px;}#sk-container-id-23 div.sk-estimator {font-family: monospace;background-color: #f0f8ff;border: 1px dotted black;border-radius: 0.25em;box-sizing: border-box;margin-bottom: 0.5em;}#sk-container-id-23 div.sk-estimator:hover {background-color: #d4ebff;}#sk-container-id-23 div.sk-parallel-item::after {content: \"\";width: 100%;border-bottom: 1px solid gray;flex-grow: 1;}#sk-container-id-23 div.sk-label:hover label.sk-toggleable__label {background-color: #d4ebff;}#sk-container-id-23 div.sk-serial::before {content: \"\";position: absolute;border-left: 1px solid gray;box-sizing: border-box;top: 0;bottom: 0;left: 50%;z-index: 0;}#sk-container-id-23 div.sk-serial {display: flex;flex-direction: column;align-items: center;background-color: white;padding-right: 0.2em;padding-left: 0.2em;position: relative;}#sk-container-id-23 div.sk-item {position: relative;z-index: 1;}#sk-container-id-23 div.sk-parallel {display: flex;align-items: stretch;justify-content: center;background-color: white;position: relative;}#sk-container-id-23 div.sk-item::before, #sk-container-id-23 div.sk-parallel-item::before {content: \"\";position: absolute;border-left: 1px solid gray;box-sizing: border-box;top: 0;bottom: 0;left: 50%;z-index: -1;}#sk-container-id-23 div.sk-parallel-item {display: flex;flex-direction: column;z-index: 1;position: relative;background-color: white;}#sk-container-id-23 div.sk-parallel-item:first-child::after {align-self: flex-end;width: 50%;}#sk-container-id-23 div.sk-parallel-item:last-child::after {align-self: flex-start;width: 50%;}#sk-container-id-23 div.sk-parallel-item:only-child::after {width: 0;}#sk-container-id-23 div.sk-dashed-wrapped {border: 1px dashed gray;margin: 0 0.4em 0.5em 0.4em;box-sizing: border-box;padding-bottom: 0.4em;background-color: white;}#sk-container-id-23 div.sk-label label {font-family: monospace;font-weight: bold;display: inline-block;line-height: 1.2em;}#sk-container-id-23 div.sk-label-container {text-align: center;}#sk-container-id-23 div.sk-container {/* jupyter's `normalize.less` sets `[hidden] { display: none; }` but bootstrap.min.css set `[hidden] { display: none !important; }` so we also need the `!important` here to be able to override the default hidden behavior on the sphinx rendered scikit-learn.org. See: https://github.com/scikit-learn/scikit-learn/issues/21755 */display: inline-block !important;position: relative;}#sk-container-id-23 div.sk-text-repr-fallback {display: none;}</style><div id=\"sk-container-id-23\" class=\"sk-top-container\"><div class=\"sk-text-repr-fallback\"><pre>KNeighborsClassifier()</pre><b>In a Jupyter environment, please rerun this cell to show the HTML representation or trust the notebook. <br />On GitHub, the HTML representation is unable to render, please try loading this page with nbviewer.org.</b></div><div class=\"sk-container\" hidden><div class=\"sk-item\"><div class=\"sk-estimator sk-toggleable\"><input class=\"sk-toggleable__control sk-hidden--visually\" id=\"sk-estimator-id-23\" type=\"checkbox\" checked><label for=\"sk-estimator-id-23\" class=\"sk-toggleable__label sk-toggleable__label-arrow\">KNeighborsClassifier</label><div class=\"sk-toggleable__content\"><pre>KNeighborsClassifier()</pre></div></div></div></div></div>"
      ],
      "text/plain": [
       "KNeighborsClassifier()"
      ]
     },
     "execution_count": 359,
     "metadata": {},
     "output_type": "execute_result"
    }
   ],
   "source": [
    "Classifier = KNeighborsClassifier(n_neighbors=5)\n",
    "Classifier.fit(x_train,y_train)"
   ]
  },
  {
   "cell_type": "code",
   "execution_count": 360,
   "id": "bdddf924",
   "metadata": {},
   "outputs": [
    {
     "data": {
      "text/plain": [
       "0.9793388429752066"
      ]
     },
     "execution_count": 360,
     "metadata": {},
     "output_type": "execute_result"
    }
   ],
   "source": [
    "y_pred=Classifier.score(x_test,y_test)\n",
    "y_pred"
   ]
  },
  {
   "cell_type": "code",
   "execution_count": 361,
   "id": "164714c2",
   "metadata": {},
   "outputs": [],
   "source": [
    "from sklearn.model_selection import cross_val_score"
   ]
  },
  {
   "cell_type": "code",
   "execution_count": 362,
   "id": "eed60dcf",
   "metadata": {},
   "outputs": [
    {
     "name": "stdout",
     "output_type": "stream",
     "text": [
      "[0.98966942 0.98964803]\n",
      "Avg : 0.9896587273069486\n"
     ]
    }
   ],
   "source": [
    "score_knn=cross_val_score(KNeighborsClassifier(n_neighbors=20), x_train,y_train,cv=2)\n",
    "print(score_knn)\n",
    "print(\"Avg :\",np.average(score_knn))"
   ]
  },
  {
   "cell_type": "code",
   "execution_count": 363,
   "id": "0c2c4b30",
   "metadata": {},
   "outputs": [
    {
     "name": "stdout",
     "output_type": "stream",
     "text": [
      "[0.99071207 0.99378882 0.99689441]\n",
      "Avg: 0.9937984347056901\n"
     ]
    }
   ],
   "source": [
    "score_rf=cross_val_score(RandomForestClassifier(n_estimators=40),x_train,y_train,cv=3)\n",
    "print(score_rf)\n",
    "print(\"Avg:\",np.average(score_rf))"
   ]
  }
 ],
 "metadata": {
  "kernelspec": {
   "display_name": "Python 3 (ipykernel)",
   "language": "python",
   "name": "python3"
  },
  "language_info": {
   "codemirror_mode": {
    "name": "ipython",
    "version": 3
   },
   "file_extension": ".py",
   "mimetype": "text/x-python",
   "name": "python",
   "nbconvert_exporter": "python",
   "pygments_lexer": "ipython3",
   "version": "3.11.5"
  }
 },
 "nbformat": 4,
 "nbformat_minor": 5
}
